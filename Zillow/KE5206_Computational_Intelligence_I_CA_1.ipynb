{
 "cells": [
  {
   "cell_type": "code",
   "execution_count": 1,
   "metadata": {
    "colab": {
     "autoexec": {
      "startup": false,
      "wait_interval": 0
     }
    },
    "colab_type": "code",
    "id": "0bTAhhDfwW1d"
   },
   "outputs": [],
   "source": [
    "%matplotlib inline\n",
    "\n",
    "import numpy as np\n",
    "import pandas as pd\n",
    "import seaborn as sns\n",
    "\n",
    "import matplotlib.pyplot as plt"
   ]
  },
  {
   "cell_type": "code",
   "execution_count": 2,
   "metadata": {
    "colab": {
     "autoexec": {
      "startup": false,
      "wait_interval": 0
     }
    },
    "colab_type": "code",
    "id": "o1l3XK1Q-YHa"
   },
   "outputs": [
    {
     "name": "stderr",
     "output_type": "stream",
     "text": [
      "/Users/davidleonardi/anaconda3/lib/python3.6/site-packages/statsmodels/compat/pandas.py:56: FutureWarning: The pandas.core.datetools module is deprecated and will be removed in a future version. Please use the pandas.tseries module instead.\n",
      "  from pandas.core import datetools\n"
     ]
    }
   ],
   "source": [
    "import statsmodels.api as sm\n",
    "from statsmodels.stats.outliers_influence import variance_inflation_factor"
   ]
  },
  {
   "cell_type": "markdown",
   "metadata": {
    "colab_type": "text",
    "id": "dSjl9EFWwKD4"
   },
   "source": [
    "### Load & Merge Data"
   ]
  },
  {
   "cell_type": "code",
   "execution_count": null,
   "metadata": {
    "colab": {
     "autoexec": {
      "startup": false,
      "wait_interval": 0
     },
     "base_uri": "https://localhost:8080/",
     "height": 338
    },
    "colab_type": "code",
    "executionInfo": {
     "elapsed": 3365,
     "status": "ok",
     "timestamp": 1525144623408,
     "user": {
      "displayName": "David Leonardi",
      "photoUrl": "//lh6.googleusercontent.com/-Gp3YjIxU3rU/AAAAAAAAAAI/AAAAAAAB5zQ/pdxHR6_wuME/s50-c-k-no/photo.jpg",
      "userId": "106440738287809676594"
     },
     "user_tz": -480
    },
    "id": "sM5hwWSewN32",
    "outputId": "923e8ccf-7c04-4668-9062-de405888b80f"
   },
   "outputs": [],
   "source": [
    "properties = pd.read_csv('Data/properties_2016.csv', header=0, encoding='utf-8')\n",
    "train = pd.read_csv('Data/train_2016_v2.csv', parse_dates=[\"transactiondate\"], header=0, encoding='utf-8')\n",
    "\n",
    "merged_df = pd.merge(train,properties,on=\"parcelid\",how=\"left\")\n",
    "\n",
    "print(\"Shape Of Dataset: \", merged_df.shape)"
   ]
  },
  {
   "cell_type": "markdown",
   "metadata": {},
   "source": [
    "### Save Merged Data"
   ]
  },
  {
   "cell_type": "code",
   "execution_count": null,
   "metadata": {},
   "outputs": [],
   "source": [
    "merged_df.to_csv(\"Data/merged_2016.csv\", index=False)"
   ]
  },
  {
   "cell_type": "markdown",
   "metadata": {},
   "source": [
    "# Data Exploration"
   ]
  },
  {
   "cell_type": "markdown",
   "metadata": {},
   "source": [
    "### Renaming the features"
   ]
  },
  {
   "cell_type": "code",
   "execution_count": 3,
   "metadata": {},
   "outputs": [
    {
     "data": {
      "text/html": [
       "<div>\n",
       "<style>\n",
       "    .dataframe thead tr:only-child th {\n",
       "        text-align: right;\n",
       "    }\n",
       "\n",
       "    .dataframe thead th {\n",
       "        text-align: left;\n",
       "    }\n",
       "\n",
       "    .dataframe tbody tr th {\n",
       "        vertical-align: top;\n",
       "    }\n",
       "</style>\n",
       "<table border=\"1\" class=\"dataframe\">\n",
       "  <thead>\n",
       "    <tr style=\"text-align: right;\">\n",
       "      <th></th>\n",
       "      <th>id_parcel</th>\n",
       "      <th>logerror</th>\n",
       "      <th>aircon</th>\n",
       "      <th>architectural_style</th>\n",
       "      <th>area_basement</th>\n",
       "      <th>num_bathroom</th>\n",
       "      <th>num_bedroom</th>\n",
       "      <th>framing</th>\n",
       "      <th>quality</th>\n",
       "      <th>num_bathroom_calculated</th>\n",
       "      <th>...</th>\n",
       "      <th>num_story</th>\n",
       "      <th>flag_fireplace</th>\n",
       "      <th>tax_building</th>\n",
       "      <th>tax_dollar_value</th>\n",
       "      <th>tax_assessment_year</th>\n",
       "      <th>tax_land</th>\n",
       "      <th>tax_amount</th>\n",
       "      <th>tax_delinquency_flag</th>\n",
       "      <th>tax_delinquency_year</th>\n",
       "      <th>census_tract_and_block</th>\n",
       "    </tr>\n",
       "  </thead>\n",
       "  <tbody>\n",
       "    <tr>\n",
       "      <th>count</th>\n",
       "      <td>9.027500e+04</td>\n",
       "      <td>90275.000000</td>\n",
       "      <td>28781.000000</td>\n",
       "      <td>261.000000</td>\n",
       "      <td>43.000000</td>\n",
       "      <td>90275.000000</td>\n",
       "      <td>90275.000000</td>\n",
       "      <td>16.0</td>\n",
       "      <td>57364.000000</td>\n",
       "      <td>89093.000000</td>\n",
       "      <td>...</td>\n",
       "      <td>20570.000000</td>\n",
       "      <td>90275.0</td>\n",
       "      <td>8.989500e+04</td>\n",
       "      <td>9.027400e+04</td>\n",
       "      <td>90275.0</td>\n",
       "      <td>9.027400e+04</td>\n",
       "      <td>90269.000000</td>\n",
       "      <td>90275.000000</td>\n",
       "      <td>1783.000000</td>\n",
       "      <td>8.967000e+04</td>\n",
       "    </tr>\n",
       "    <tr>\n",
       "      <th>mean</th>\n",
       "      <td>1.298466e+07</td>\n",
       "      <td>0.011457</td>\n",
       "      <td>1.816372</td>\n",
       "      <td>7.229885</td>\n",
       "      <td>713.581395</td>\n",
       "      <td>2.279474</td>\n",
       "      <td>3.031869</td>\n",
       "      <td>4.0</td>\n",
       "      <td>5.565407</td>\n",
       "      <td>2.309216</td>\n",
       "      <td>...</td>\n",
       "      <td>1.440739</td>\n",
       "      <td>0.0</td>\n",
       "      <td>1.800934e+05</td>\n",
       "      <td>4.576726e+05</td>\n",
       "      <td>2015.0</td>\n",
       "      <td>2.783353e+05</td>\n",
       "      <td>5983.975927</td>\n",
       "      <td>0.019751</td>\n",
       "      <td>13.402692</td>\n",
       "      <td>6.049151e+13</td>\n",
       "    </tr>\n",
       "    <tr>\n",
       "      <th>std</th>\n",
       "      <td>2.504510e+06</td>\n",
       "      <td>0.161079</td>\n",
       "      <td>2.974168</td>\n",
       "      <td>2.716196</td>\n",
       "      <td>437.434198</td>\n",
       "      <td>1.004271</td>\n",
       "      <td>1.156436</td>\n",
       "      <td>0.0</td>\n",
       "      <td>1.900602</td>\n",
       "      <td>0.976172</td>\n",
       "      <td>...</td>\n",
       "      <td>0.544498</td>\n",
       "      <td>0.0</td>\n",
       "      <td>2.091299e+05</td>\n",
       "      <td>5.548844e+05</td>\n",
       "      <td>0.0</td>\n",
       "      <td>4.004955e+05</td>\n",
       "      <td>6838.876956</td>\n",
       "      <td>0.139143</td>\n",
       "      <td>2.715966</td>\n",
       "      <td>2.046605e+11</td>\n",
       "    </tr>\n",
       "    <tr>\n",
       "      <th>min</th>\n",
       "      <td>1.071174e+07</td>\n",
       "      <td>-4.605000</td>\n",
       "      <td>1.000000</td>\n",
       "      <td>2.000000</td>\n",
       "      <td>100.000000</td>\n",
       "      <td>0.000000</td>\n",
       "      <td>0.000000</td>\n",
       "      <td>4.0</td>\n",
       "      <td>1.000000</td>\n",
       "      <td>1.000000</td>\n",
       "      <td>...</td>\n",
       "      <td>1.000000</td>\n",
       "      <td>0.0</td>\n",
       "      <td>1.000000e+02</td>\n",
       "      <td>2.200000e+01</td>\n",
       "      <td>2015.0</td>\n",
       "      <td>2.200000e+01</td>\n",
       "      <td>49.080000</td>\n",
       "      <td>0.000000</td>\n",
       "      <td>6.000000</td>\n",
       "      <td>6.037101e+13</td>\n",
       "    </tr>\n",
       "    <tr>\n",
       "      <th>25%</th>\n",
       "      <td>1.155950e+07</td>\n",
       "      <td>-0.025300</td>\n",
       "      <td>1.000000</td>\n",
       "      <td>7.000000</td>\n",
       "      <td>407.500000</td>\n",
       "      <td>2.000000</td>\n",
       "      <td>2.000000</td>\n",
       "      <td>4.0</td>\n",
       "      <td>4.000000</td>\n",
       "      <td>2.000000</td>\n",
       "      <td>...</td>\n",
       "      <td>1.000000</td>\n",
       "      <td>0.0</td>\n",
       "      <td>8.124500e+04</td>\n",
       "      <td>1.990232e+05</td>\n",
       "      <td>2015.0</td>\n",
       "      <td>8.222800e+04</td>\n",
       "      <td>2872.830000</td>\n",
       "      <td>0.000000</td>\n",
       "      <td>13.000000</td>\n",
       "      <td>6.037320e+13</td>\n",
       "    </tr>\n",
       "    <tr>\n",
       "      <th>50%</th>\n",
       "      <td>1.254734e+07</td>\n",
       "      <td>0.006000</td>\n",
       "      <td>1.000000</td>\n",
       "      <td>7.000000</td>\n",
       "      <td>616.000000</td>\n",
       "      <td>2.000000</td>\n",
       "      <td>3.000000</td>\n",
       "      <td>4.0</td>\n",
       "      <td>7.000000</td>\n",
       "      <td>2.000000</td>\n",
       "      <td>...</td>\n",
       "      <td>1.000000</td>\n",
       "      <td>0.0</td>\n",
       "      <td>1.320000e+05</td>\n",
       "      <td>3.428720e+05</td>\n",
       "      <td>2015.0</td>\n",
       "      <td>1.929700e+05</td>\n",
       "      <td>4542.750000</td>\n",
       "      <td>0.000000</td>\n",
       "      <td>14.000000</td>\n",
       "      <td>6.037615e+13</td>\n",
       "    </tr>\n",
       "    <tr>\n",
       "      <th>75%</th>\n",
       "      <td>1.422755e+07</td>\n",
       "      <td>0.039200</td>\n",
       "      <td>1.000000</td>\n",
       "      <td>7.000000</td>\n",
       "      <td>872.000000</td>\n",
       "      <td>3.000000</td>\n",
       "      <td>4.000000</td>\n",
       "      <td>4.0</td>\n",
       "      <td>7.000000</td>\n",
       "      <td>3.000000</td>\n",
       "      <td>...</td>\n",
       "      <td>2.000000</td>\n",
       "      <td>0.0</td>\n",
       "      <td>2.105345e+05</td>\n",
       "      <td>5.405890e+05</td>\n",
       "      <td>2015.0</td>\n",
       "      <td>3.454195e+05</td>\n",
       "      <td>6901.090000</td>\n",
       "      <td>0.000000</td>\n",
       "      <td>15.000000</td>\n",
       "      <td>6.059042e+13</td>\n",
       "    </tr>\n",
       "    <tr>\n",
       "      <th>max</th>\n",
       "      <td>1.629608e+08</td>\n",
       "      <td>4.737000</td>\n",
       "      <td>13.000000</td>\n",
       "      <td>21.000000</td>\n",
       "      <td>1555.000000</td>\n",
       "      <td>20.000000</td>\n",
       "      <td>16.000000</td>\n",
       "      <td>4.0</td>\n",
       "      <td>12.000000</td>\n",
       "      <td>20.000000</td>\n",
       "      <td>...</td>\n",
       "      <td>4.000000</td>\n",
       "      <td>0.0</td>\n",
       "      <td>9.948100e+06</td>\n",
       "      <td>2.775000e+07</td>\n",
       "      <td>2015.0</td>\n",
       "      <td>2.450000e+07</td>\n",
       "      <td>321936.090000</td>\n",
       "      <td>1.000000</td>\n",
       "      <td>99.000000</td>\n",
       "      <td>6.111009e+13</td>\n",
       "    </tr>\n",
       "  </tbody>\n",
       "</table>\n",
       "<p>8 rows × 57 columns</p>\n",
       "</div>"
      ],
      "text/plain": [
       "          id_parcel      logerror        aircon  architectural_style  \\\n",
       "count  9.027500e+04  90275.000000  28781.000000           261.000000   \n",
       "mean   1.298466e+07      0.011457      1.816372             7.229885   \n",
       "std    2.504510e+06      0.161079      2.974168             2.716196   \n",
       "min    1.071174e+07     -4.605000      1.000000             2.000000   \n",
       "25%    1.155950e+07     -0.025300      1.000000             7.000000   \n",
       "50%    1.254734e+07      0.006000      1.000000             7.000000   \n",
       "75%    1.422755e+07      0.039200      1.000000             7.000000   \n",
       "max    1.629608e+08      4.737000     13.000000            21.000000   \n",
       "\n",
       "       area_basement  num_bathroom   num_bedroom  framing       quality  \\\n",
       "count      43.000000  90275.000000  90275.000000     16.0  57364.000000   \n",
       "mean      713.581395      2.279474      3.031869      4.0      5.565407   \n",
       "std       437.434198      1.004271      1.156436      0.0      1.900602   \n",
       "min       100.000000      0.000000      0.000000      4.0      1.000000   \n",
       "25%       407.500000      2.000000      2.000000      4.0      4.000000   \n",
       "50%       616.000000      2.000000      3.000000      4.0      7.000000   \n",
       "75%       872.000000      3.000000      4.000000      4.0      7.000000   \n",
       "max      1555.000000     20.000000     16.000000      4.0     12.000000   \n",
       "\n",
       "       num_bathroom_calculated           ...               num_story  \\\n",
       "count             89093.000000           ...            20570.000000   \n",
       "mean                  2.309216           ...                1.440739   \n",
       "std                   0.976172           ...                0.544498   \n",
       "min                   1.000000           ...                1.000000   \n",
       "25%                   2.000000           ...                1.000000   \n",
       "50%                   2.000000           ...                1.000000   \n",
       "75%                   3.000000           ...                2.000000   \n",
       "max                  20.000000           ...                4.000000   \n",
       "\n",
       "       flag_fireplace  tax_building  tax_dollar_value  tax_assessment_year  \\\n",
       "count         90275.0  8.989500e+04      9.027400e+04              90275.0   \n",
       "mean              0.0  1.800934e+05      4.576726e+05               2015.0   \n",
       "std               0.0  2.091299e+05      5.548844e+05                  0.0   \n",
       "min               0.0  1.000000e+02      2.200000e+01               2015.0   \n",
       "25%               0.0  8.124500e+04      1.990232e+05               2015.0   \n",
       "50%               0.0  1.320000e+05      3.428720e+05               2015.0   \n",
       "75%               0.0  2.105345e+05      5.405890e+05               2015.0   \n",
       "max               0.0  9.948100e+06      2.775000e+07               2015.0   \n",
       "\n",
       "           tax_land     tax_amount  tax_delinquency_flag  \\\n",
       "count  9.027400e+04   90269.000000          90275.000000   \n",
       "mean   2.783353e+05    5983.975927              0.019751   \n",
       "std    4.004955e+05    6838.876956              0.139143   \n",
       "min    2.200000e+01      49.080000              0.000000   \n",
       "25%    8.222800e+04    2872.830000              0.000000   \n",
       "50%    1.929700e+05    4542.750000              0.000000   \n",
       "75%    3.454195e+05    6901.090000              0.000000   \n",
       "max    2.450000e+07  321936.090000              1.000000   \n",
       "\n",
       "       tax_delinquency_year  census_tract_and_block  \n",
       "count           1783.000000            8.967000e+04  \n",
       "mean              13.402692            6.049151e+13  \n",
       "std                2.715966            2.046605e+11  \n",
       "min                6.000000            6.037101e+13  \n",
       "25%               13.000000            6.037320e+13  \n",
       "50%               14.000000            6.037615e+13  \n",
       "75%               15.000000            6.059042e+13  \n",
       "max               99.000000            6.111009e+13  \n",
       "\n",
       "[8 rows x 57 columns]"
      ]
     },
     "execution_count": 3,
     "metadata": {},
     "output_type": "execute_result"
    }
   ],
   "source": [
    "merged_df = pd.read_csv(\"Data/merged_2016.csv\")\n",
    "\n",
    "renamed_columns = {\n",
    "    'parcelid': 'id_parcel',\n",
    "    'yearbuilt': 'build_year',\n",
    "    'basementsqft': 'area_basement',\n",
    "    'yardbuildingsqft17': 'area_patio',\n",
    "    'yardbuildingsqft26': 'area_storage_shed',\n",
    "    'poolsizesum': 'area_pool',\n",
    "    'lotsizesquarefeet': 'area_lot',\n",
    "    'garagetotalsqft': 'area_garage',\n",
    "    'finishedfloor1squarefeet': 'area_firstfloor_finished',\n",
    "    'calculatedfinishedsquarefeet': 'area_total_calculated',\n",
    "    'finishedsquarefeet6': 'area_finished_base',\n",
    "    'finishedsquarefeet12': 'area_finished_living',\n",
    "    'finishedsquarefeet13': 'area_perimeter_living',\n",
    "    'finishedsquarefeet15': 'area_total',\n",
    "    'finishedsquarefeet50': 'area_finished_first_floor',\n",
    "    'unitcnt': 'num_unit',\n",
    "    'numberofstories': 'num_story',\n",
    "    'roomcnt': 'num_room',\n",
    "    'bathroomcnt': 'num_bathroom',\n",
    "    'bedroomcnt': 'num_bedroom',\n",
    "    'calculatedbathnbr': 'num_bathroom_calculated',\n",
    "    'fullbathcnt': 'num_bath',\n",
    "    'threequarterbathnbr': 'num_quarter_bathroom',\n",
    "    'fireplacecnt': 'num_fireplace',\n",
    "    'poolcnt': 'num_pool',\n",
    "    'garagecarcnt': 'num_garage',\n",
    "    'regionidcounty': 'region_county',\n",
    "    'regionidcity': 'region_city',\n",
    "    'regionidzip': 'region_zip',\n",
    "    'regionidneighborhood': 'region_neighborhood',\n",
    "    'taxvaluedollarcnt': 'tax_dollar_value',\n",
    "    'structuretaxvaluedollarcnt': 'tax_building',\n",
    "    'landtaxvaluedollarcnt': 'tax_land',\n",
    "    'taxamount': 'tax_amount',\n",
    "    'assessmentyear': 'tax_assessment_year',\n",
    "    'taxdelinquencyflag': 'tax_delinquency_flag',\n",
    "    'taxdelinquencyyear': 'tax_delinquency_year',\n",
    "    'propertyzoningdesc': 'zoning_desc',\n",
    "    'propertylandusetypeid': 'zoning_landuse_type',\n",
    "    'propertycountylandusecode': 'zoning_landuse_county',\n",
    "    'fireplaceflag': 'flag_fireplace',\n",
    "    'hashottuborspa': 'flag_tub',\n",
    "    'buildingqualitytypeid': 'quality',\n",
    "    'buildingclasstypeid': 'framing',\n",
    "    'typeconstructiontypeid': 'material',\n",
    "    'decktypeid': 'deck',\n",
    "    'storytypeid': 'story',\n",
    "    'heatingorsystemtypeid': 'heating',\n",
    "    'airconditioningtypeid': 'aircon',\n",
    "    'architecturalstyletypeid': 'architectural_style',\n",
    "    'transactiondate': 'transaction_date',\n",
    "    'rawcensustractandblock': 'census_tract_and_block_raw',\n",
    "    'censustractandblock': 'census_tract_and_block'\n",
    "}\n",
    "\n",
    "merged_df.rename(columns=renamed_columns, inplace=True)\n",
    "\n",
    "# convert data type of some features \n",
    "merged_df['tax_delinquency_flag'] = merged_df['tax_delinquency_flag'].apply(lambda x: 1 if x == \"Y\" else 0)\n",
    "merged_df['flag_fireplace'] = merged_df['flag_fireplace'].apply(lambda x: 1 if x == \"Y\" else 0)\n",
    "merged_df['flag_tub'] = merged_df['flag_tub'].apply(lambda x: 1 if x == \"Y\" else 0)\n",
    "\n",
    "merged_df.describe().to_csv(\"data_desc.csv\")\n",
    "merged_df.describe()"
   ]
  },
  {
   "cell_type": "markdown",
   "metadata": {},
   "source": [
    "### Display Features Data Type"
   ]
  },
  {
   "cell_type": "code",
   "execution_count": 4,
   "metadata": {},
   "outputs": [
    {
     "data": {
      "text/html": [
       "<div>\n",
       "<style>\n",
       "    .dataframe thead tr:only-child th {\n",
       "        text-align: right;\n",
       "    }\n",
       "\n",
       "    .dataframe thead th {\n",
       "        text-align: left;\n",
       "    }\n",
       "\n",
       "    .dataframe tbody tr th {\n",
       "        vertical-align: top;\n",
       "    }\n",
       "</style>\n",
       "<table border=\"1\" class=\"dataframe\">\n",
       "  <thead>\n",
       "    <tr style=\"text-align: right;\">\n",
       "      <th></th>\n",
       "      <th>Count</th>\n",
       "      <th>Column Type</th>\n",
       "    </tr>\n",
       "  </thead>\n",
       "  <tbody>\n",
       "    <tr>\n",
       "      <th>0</th>\n",
       "      <td>id_parcel</td>\n",
       "      <td>int64</td>\n",
       "    </tr>\n",
       "    <tr>\n",
       "      <th>1</th>\n",
       "      <td>logerror</td>\n",
       "      <td>float64</td>\n",
       "    </tr>\n",
       "    <tr>\n",
       "      <th>2</th>\n",
       "      <td>transaction_date</td>\n",
       "      <td>object</td>\n",
       "    </tr>\n",
       "    <tr>\n",
       "      <th>3</th>\n",
       "      <td>aircon</td>\n",
       "      <td>float64</td>\n",
       "    </tr>\n",
       "    <tr>\n",
       "      <th>4</th>\n",
       "      <td>architectural_style</td>\n",
       "      <td>float64</td>\n",
       "    </tr>\n",
       "    <tr>\n",
       "      <th>5</th>\n",
       "      <td>area_basement</td>\n",
       "      <td>float64</td>\n",
       "    </tr>\n",
       "    <tr>\n",
       "      <th>6</th>\n",
       "      <td>num_bathroom</td>\n",
       "      <td>float64</td>\n",
       "    </tr>\n",
       "    <tr>\n",
       "      <th>7</th>\n",
       "      <td>num_bedroom</td>\n",
       "      <td>float64</td>\n",
       "    </tr>\n",
       "    <tr>\n",
       "      <th>8</th>\n",
       "      <td>framing</td>\n",
       "      <td>float64</td>\n",
       "    </tr>\n",
       "    <tr>\n",
       "      <th>9</th>\n",
       "      <td>quality</td>\n",
       "      <td>float64</td>\n",
       "    </tr>\n",
       "    <tr>\n",
       "      <th>10</th>\n",
       "      <td>num_bathroom_calculated</td>\n",
       "      <td>float64</td>\n",
       "    </tr>\n",
       "    <tr>\n",
       "      <th>11</th>\n",
       "      <td>deck</td>\n",
       "      <td>float64</td>\n",
       "    </tr>\n",
       "    <tr>\n",
       "      <th>12</th>\n",
       "      <td>area_firstfloor_finished</td>\n",
       "      <td>float64</td>\n",
       "    </tr>\n",
       "    <tr>\n",
       "      <th>13</th>\n",
       "      <td>area_total_calculated</td>\n",
       "      <td>float64</td>\n",
       "    </tr>\n",
       "    <tr>\n",
       "      <th>14</th>\n",
       "      <td>area_finished_living</td>\n",
       "      <td>float64</td>\n",
       "    </tr>\n",
       "    <tr>\n",
       "      <th>15</th>\n",
       "      <td>area_perimeter_living</td>\n",
       "      <td>float64</td>\n",
       "    </tr>\n",
       "    <tr>\n",
       "      <th>16</th>\n",
       "      <td>area_total</td>\n",
       "      <td>float64</td>\n",
       "    </tr>\n",
       "    <tr>\n",
       "      <th>17</th>\n",
       "      <td>area_finished_first_floor</td>\n",
       "      <td>float64</td>\n",
       "    </tr>\n",
       "    <tr>\n",
       "      <th>18</th>\n",
       "      <td>area_finished_base</td>\n",
       "      <td>float64</td>\n",
       "    </tr>\n",
       "    <tr>\n",
       "      <th>19</th>\n",
       "      <td>fips</td>\n",
       "      <td>float64</td>\n",
       "    </tr>\n",
       "    <tr>\n",
       "      <th>20</th>\n",
       "      <td>num_fireplace</td>\n",
       "      <td>float64</td>\n",
       "    </tr>\n",
       "    <tr>\n",
       "      <th>21</th>\n",
       "      <td>num_bath</td>\n",
       "      <td>float64</td>\n",
       "    </tr>\n",
       "    <tr>\n",
       "      <th>22</th>\n",
       "      <td>num_garage</td>\n",
       "      <td>float64</td>\n",
       "    </tr>\n",
       "    <tr>\n",
       "      <th>23</th>\n",
       "      <td>area_garage</td>\n",
       "      <td>float64</td>\n",
       "    </tr>\n",
       "    <tr>\n",
       "      <th>24</th>\n",
       "      <td>flag_tub</td>\n",
       "      <td>int64</td>\n",
       "    </tr>\n",
       "    <tr>\n",
       "      <th>25</th>\n",
       "      <td>heating</td>\n",
       "      <td>float64</td>\n",
       "    </tr>\n",
       "    <tr>\n",
       "      <th>26</th>\n",
       "      <td>latitude</td>\n",
       "      <td>float64</td>\n",
       "    </tr>\n",
       "    <tr>\n",
       "      <th>27</th>\n",
       "      <td>longitude</td>\n",
       "      <td>float64</td>\n",
       "    </tr>\n",
       "    <tr>\n",
       "      <th>28</th>\n",
       "      <td>area_lot</td>\n",
       "      <td>float64</td>\n",
       "    </tr>\n",
       "    <tr>\n",
       "      <th>29</th>\n",
       "      <td>num_pool</td>\n",
       "      <td>float64</td>\n",
       "    </tr>\n",
       "    <tr>\n",
       "      <th>30</th>\n",
       "      <td>area_pool</td>\n",
       "      <td>float64</td>\n",
       "    </tr>\n",
       "    <tr>\n",
       "      <th>31</th>\n",
       "      <td>pooltypeid10</td>\n",
       "      <td>float64</td>\n",
       "    </tr>\n",
       "    <tr>\n",
       "      <th>32</th>\n",
       "      <td>pooltypeid2</td>\n",
       "      <td>float64</td>\n",
       "    </tr>\n",
       "    <tr>\n",
       "      <th>33</th>\n",
       "      <td>pooltypeid7</td>\n",
       "      <td>float64</td>\n",
       "    </tr>\n",
       "    <tr>\n",
       "      <th>34</th>\n",
       "      <td>zoning_landuse_county</td>\n",
       "      <td>object</td>\n",
       "    </tr>\n",
       "    <tr>\n",
       "      <th>35</th>\n",
       "      <td>zoning_landuse_type</td>\n",
       "      <td>float64</td>\n",
       "    </tr>\n",
       "    <tr>\n",
       "      <th>36</th>\n",
       "      <td>zoning_desc</td>\n",
       "      <td>object</td>\n",
       "    </tr>\n",
       "    <tr>\n",
       "      <th>37</th>\n",
       "      <td>census_tract_and_block_raw</td>\n",
       "      <td>float64</td>\n",
       "    </tr>\n",
       "    <tr>\n",
       "      <th>38</th>\n",
       "      <td>region_city</td>\n",
       "      <td>float64</td>\n",
       "    </tr>\n",
       "    <tr>\n",
       "      <th>39</th>\n",
       "      <td>region_county</td>\n",
       "      <td>float64</td>\n",
       "    </tr>\n",
       "    <tr>\n",
       "      <th>40</th>\n",
       "      <td>region_neighborhood</td>\n",
       "      <td>float64</td>\n",
       "    </tr>\n",
       "    <tr>\n",
       "      <th>41</th>\n",
       "      <td>region_zip</td>\n",
       "      <td>float64</td>\n",
       "    </tr>\n",
       "    <tr>\n",
       "      <th>42</th>\n",
       "      <td>num_room</td>\n",
       "      <td>float64</td>\n",
       "    </tr>\n",
       "    <tr>\n",
       "      <th>43</th>\n",
       "      <td>story</td>\n",
       "      <td>float64</td>\n",
       "    </tr>\n",
       "    <tr>\n",
       "      <th>44</th>\n",
       "      <td>num_quarter_bathroom</td>\n",
       "      <td>float64</td>\n",
       "    </tr>\n",
       "    <tr>\n",
       "      <th>45</th>\n",
       "      <td>material</td>\n",
       "      <td>float64</td>\n",
       "    </tr>\n",
       "    <tr>\n",
       "      <th>46</th>\n",
       "      <td>num_unit</td>\n",
       "      <td>float64</td>\n",
       "    </tr>\n",
       "    <tr>\n",
       "      <th>47</th>\n",
       "      <td>area_patio</td>\n",
       "      <td>float64</td>\n",
       "    </tr>\n",
       "    <tr>\n",
       "      <th>48</th>\n",
       "      <td>area_storage_shed</td>\n",
       "      <td>float64</td>\n",
       "    </tr>\n",
       "    <tr>\n",
       "      <th>49</th>\n",
       "      <td>build_year</td>\n",
       "      <td>float64</td>\n",
       "    </tr>\n",
       "    <tr>\n",
       "      <th>50</th>\n",
       "      <td>num_story</td>\n",
       "      <td>float64</td>\n",
       "    </tr>\n",
       "    <tr>\n",
       "      <th>51</th>\n",
       "      <td>flag_fireplace</td>\n",
       "      <td>int64</td>\n",
       "    </tr>\n",
       "    <tr>\n",
       "      <th>52</th>\n",
       "      <td>tax_building</td>\n",
       "      <td>float64</td>\n",
       "    </tr>\n",
       "    <tr>\n",
       "      <th>53</th>\n",
       "      <td>tax_dollar_value</td>\n",
       "      <td>float64</td>\n",
       "    </tr>\n",
       "    <tr>\n",
       "      <th>54</th>\n",
       "      <td>tax_assessment_year</td>\n",
       "      <td>float64</td>\n",
       "    </tr>\n",
       "    <tr>\n",
       "      <th>55</th>\n",
       "      <td>tax_land</td>\n",
       "      <td>float64</td>\n",
       "    </tr>\n",
       "    <tr>\n",
       "      <th>56</th>\n",
       "      <td>tax_amount</td>\n",
       "      <td>float64</td>\n",
       "    </tr>\n",
       "    <tr>\n",
       "      <th>57</th>\n",
       "      <td>tax_delinquency_flag</td>\n",
       "      <td>int64</td>\n",
       "    </tr>\n",
       "    <tr>\n",
       "      <th>58</th>\n",
       "      <td>tax_delinquency_year</td>\n",
       "      <td>float64</td>\n",
       "    </tr>\n",
       "    <tr>\n",
       "      <th>59</th>\n",
       "      <td>census_tract_and_block</td>\n",
       "      <td>float64</td>\n",
       "    </tr>\n",
       "  </tbody>\n",
       "</table>\n",
       "</div>"
      ],
      "text/plain": [
       "                         Count Column Type\n",
       "0                    id_parcel       int64\n",
       "1                     logerror     float64\n",
       "2             transaction_date      object\n",
       "3                       aircon     float64\n",
       "4          architectural_style     float64\n",
       "5                area_basement     float64\n",
       "6                 num_bathroom     float64\n",
       "7                  num_bedroom     float64\n",
       "8                      framing     float64\n",
       "9                      quality     float64\n",
       "10     num_bathroom_calculated     float64\n",
       "11                        deck     float64\n",
       "12    area_firstfloor_finished     float64\n",
       "13       area_total_calculated     float64\n",
       "14        area_finished_living     float64\n",
       "15       area_perimeter_living     float64\n",
       "16                  area_total     float64\n",
       "17   area_finished_first_floor     float64\n",
       "18          area_finished_base     float64\n",
       "19                        fips     float64\n",
       "20               num_fireplace     float64\n",
       "21                    num_bath     float64\n",
       "22                  num_garage     float64\n",
       "23                 area_garage     float64\n",
       "24                    flag_tub       int64\n",
       "25                     heating     float64\n",
       "26                    latitude     float64\n",
       "27                   longitude     float64\n",
       "28                    area_lot     float64\n",
       "29                    num_pool     float64\n",
       "30                   area_pool     float64\n",
       "31                pooltypeid10     float64\n",
       "32                 pooltypeid2     float64\n",
       "33                 pooltypeid7     float64\n",
       "34       zoning_landuse_county      object\n",
       "35         zoning_landuse_type     float64\n",
       "36                 zoning_desc      object\n",
       "37  census_tract_and_block_raw     float64\n",
       "38                 region_city     float64\n",
       "39               region_county     float64\n",
       "40         region_neighborhood     float64\n",
       "41                  region_zip     float64\n",
       "42                    num_room     float64\n",
       "43                       story     float64\n",
       "44        num_quarter_bathroom     float64\n",
       "45                    material     float64\n",
       "46                    num_unit     float64\n",
       "47                  area_patio     float64\n",
       "48           area_storage_shed     float64\n",
       "49                  build_year     float64\n",
       "50                   num_story     float64\n",
       "51              flag_fireplace       int64\n",
       "52                tax_building     float64\n",
       "53            tax_dollar_value     float64\n",
       "54         tax_assessment_year     float64\n",
       "55                    tax_land     float64\n",
       "56                  tax_amount     float64\n",
       "57        tax_delinquency_flag       int64\n",
       "58        tax_delinquency_year     float64\n",
       "59      census_tract_and_block     float64"
      ]
     },
     "execution_count": 4,
     "metadata": {},
     "output_type": "execute_result"
    }
   ],
   "source": [
    "pd.options.display.max_rows = 65\n",
    "\n",
    "dtype_df = merged_df.dtypes.reset_index()\n",
    "dtype_df.columns = [\"Count\", \"Column Type\"]\n",
    "dtype_df"
   ]
  },
  {
   "cell_type": "markdown",
   "metadata": {},
   "source": [
    "### Show Frst Few Rows of Data"
   ]
  },
  {
   "cell_type": "code",
   "execution_count": 5,
   "metadata": {},
   "outputs": [
    {
     "data": {
      "text/html": [
       "<div>\n",
       "<style>\n",
       "    .dataframe thead tr:only-child th {\n",
       "        text-align: right;\n",
       "    }\n",
       "\n",
       "    .dataframe thead th {\n",
       "        text-align: left;\n",
       "    }\n",
       "\n",
       "    .dataframe tbody tr th {\n",
       "        vertical-align: top;\n",
       "    }\n",
       "</style>\n",
       "<table border=\"1\" class=\"dataframe\">\n",
       "  <thead>\n",
       "    <tr style=\"text-align: right;\">\n",
       "      <th></th>\n",
       "      <th>0</th>\n",
       "      <th>1</th>\n",
       "      <th>2</th>\n",
       "    </tr>\n",
       "  </thead>\n",
       "  <tbody>\n",
       "    <tr>\n",
       "      <th>id_parcel</th>\n",
       "      <td>11016594</td>\n",
       "      <td>14366692</td>\n",
       "      <td>12098116</td>\n",
       "    </tr>\n",
       "    <tr>\n",
       "      <th>logerror</th>\n",
       "      <td>0.0276</td>\n",
       "      <td>-0.1684</td>\n",
       "      <td>-0.004</td>\n",
       "    </tr>\n",
       "    <tr>\n",
       "      <th>transaction_date</th>\n",
       "      <td>2016-01-01</td>\n",
       "      <td>2016-01-01</td>\n",
       "      <td>2016-01-01</td>\n",
       "    </tr>\n",
       "    <tr>\n",
       "      <th>aircon</th>\n",
       "      <td>1</td>\n",
       "      <td>NaN</td>\n",
       "      <td>1</td>\n",
       "    </tr>\n",
       "    <tr>\n",
       "      <th>architectural_style</th>\n",
       "      <td>NaN</td>\n",
       "      <td>NaN</td>\n",
       "      <td>NaN</td>\n",
       "    </tr>\n",
       "    <tr>\n",
       "      <th>area_basement</th>\n",
       "      <td>NaN</td>\n",
       "      <td>NaN</td>\n",
       "      <td>NaN</td>\n",
       "    </tr>\n",
       "    <tr>\n",
       "      <th>num_bathroom</th>\n",
       "      <td>2</td>\n",
       "      <td>3.5</td>\n",
       "      <td>3</td>\n",
       "    </tr>\n",
       "    <tr>\n",
       "      <th>num_bedroom</th>\n",
       "      <td>3</td>\n",
       "      <td>4</td>\n",
       "      <td>2</td>\n",
       "    </tr>\n",
       "    <tr>\n",
       "      <th>framing</th>\n",
       "      <td>NaN</td>\n",
       "      <td>NaN</td>\n",
       "      <td>NaN</td>\n",
       "    </tr>\n",
       "    <tr>\n",
       "      <th>quality</th>\n",
       "      <td>4</td>\n",
       "      <td>NaN</td>\n",
       "      <td>4</td>\n",
       "    </tr>\n",
       "    <tr>\n",
       "      <th>num_bathroom_calculated</th>\n",
       "      <td>2</td>\n",
       "      <td>3.5</td>\n",
       "      <td>3</td>\n",
       "    </tr>\n",
       "    <tr>\n",
       "      <th>deck</th>\n",
       "      <td>NaN</td>\n",
       "      <td>NaN</td>\n",
       "      <td>NaN</td>\n",
       "    </tr>\n",
       "    <tr>\n",
       "      <th>area_firstfloor_finished</th>\n",
       "      <td>NaN</td>\n",
       "      <td>NaN</td>\n",
       "      <td>NaN</td>\n",
       "    </tr>\n",
       "    <tr>\n",
       "      <th>area_total_calculated</th>\n",
       "      <td>1684</td>\n",
       "      <td>2263</td>\n",
       "      <td>2217</td>\n",
       "    </tr>\n",
       "    <tr>\n",
       "      <th>area_finished_living</th>\n",
       "      <td>1684</td>\n",
       "      <td>2263</td>\n",
       "      <td>2217</td>\n",
       "    </tr>\n",
       "    <tr>\n",
       "      <th>area_perimeter_living</th>\n",
       "      <td>NaN</td>\n",
       "      <td>NaN</td>\n",
       "      <td>NaN</td>\n",
       "    </tr>\n",
       "    <tr>\n",
       "      <th>area_total</th>\n",
       "      <td>NaN</td>\n",
       "      <td>NaN</td>\n",
       "      <td>NaN</td>\n",
       "    </tr>\n",
       "    <tr>\n",
       "      <th>area_finished_first_floor</th>\n",
       "      <td>NaN</td>\n",
       "      <td>NaN</td>\n",
       "      <td>NaN</td>\n",
       "    </tr>\n",
       "    <tr>\n",
       "      <th>area_finished_base</th>\n",
       "      <td>NaN</td>\n",
       "      <td>NaN</td>\n",
       "      <td>NaN</td>\n",
       "    </tr>\n",
       "    <tr>\n",
       "      <th>fips</th>\n",
       "      <td>6037</td>\n",
       "      <td>6059</td>\n",
       "      <td>6037</td>\n",
       "    </tr>\n",
       "    <tr>\n",
       "      <th>num_fireplace</th>\n",
       "      <td>NaN</td>\n",
       "      <td>NaN</td>\n",
       "      <td>NaN</td>\n",
       "    </tr>\n",
       "    <tr>\n",
       "      <th>num_bath</th>\n",
       "      <td>2</td>\n",
       "      <td>3</td>\n",
       "      <td>3</td>\n",
       "    </tr>\n",
       "    <tr>\n",
       "      <th>num_garage</th>\n",
       "      <td>NaN</td>\n",
       "      <td>2</td>\n",
       "      <td>NaN</td>\n",
       "    </tr>\n",
       "    <tr>\n",
       "      <th>area_garage</th>\n",
       "      <td>NaN</td>\n",
       "      <td>468</td>\n",
       "      <td>NaN</td>\n",
       "    </tr>\n",
       "    <tr>\n",
       "      <th>flag_tub</th>\n",
       "      <td>0</td>\n",
       "      <td>0</td>\n",
       "      <td>0</td>\n",
       "    </tr>\n",
       "    <tr>\n",
       "      <th>heating</th>\n",
       "      <td>2</td>\n",
       "      <td>NaN</td>\n",
       "      <td>2</td>\n",
       "    </tr>\n",
       "    <tr>\n",
       "      <th>latitude</th>\n",
       "      <td>3.4281e+07</td>\n",
       "      <td>3.36681e+07</td>\n",
       "      <td>3.41363e+07</td>\n",
       "    </tr>\n",
       "    <tr>\n",
       "      <th>longitude</th>\n",
       "      <td>-1.18489e+08</td>\n",
       "      <td>-1.17678e+08</td>\n",
       "      <td>-1.18175e+08</td>\n",
       "    </tr>\n",
       "    <tr>\n",
       "      <th>area_lot</th>\n",
       "      <td>7528</td>\n",
       "      <td>3643</td>\n",
       "      <td>11423</td>\n",
       "    </tr>\n",
       "    <tr>\n",
       "      <th>num_pool</th>\n",
       "      <td>NaN</td>\n",
       "      <td>NaN</td>\n",
       "      <td>NaN</td>\n",
       "    </tr>\n",
       "    <tr>\n",
       "      <th>area_pool</th>\n",
       "      <td>NaN</td>\n",
       "      <td>NaN</td>\n",
       "      <td>NaN</td>\n",
       "    </tr>\n",
       "    <tr>\n",
       "      <th>pooltypeid10</th>\n",
       "      <td>NaN</td>\n",
       "      <td>NaN</td>\n",
       "      <td>NaN</td>\n",
       "    </tr>\n",
       "    <tr>\n",
       "      <th>pooltypeid2</th>\n",
       "      <td>NaN</td>\n",
       "      <td>NaN</td>\n",
       "      <td>NaN</td>\n",
       "    </tr>\n",
       "    <tr>\n",
       "      <th>pooltypeid7</th>\n",
       "      <td>NaN</td>\n",
       "      <td>NaN</td>\n",
       "      <td>NaN</td>\n",
       "    </tr>\n",
       "    <tr>\n",
       "      <th>zoning_landuse_county</th>\n",
       "      <td>0100</td>\n",
       "      <td>1</td>\n",
       "      <td>0100</td>\n",
       "    </tr>\n",
       "    <tr>\n",
       "      <th>zoning_landuse_type</th>\n",
       "      <td>261</td>\n",
       "      <td>261</td>\n",
       "      <td>261</td>\n",
       "    </tr>\n",
       "    <tr>\n",
       "      <th>zoning_desc</th>\n",
       "      <td>LARS</td>\n",
       "      <td>NaN</td>\n",
       "      <td>PSR6</td>\n",
       "    </tr>\n",
       "    <tr>\n",
       "      <th>census_tract_and_block_raw</th>\n",
       "      <td>6.03711e+07</td>\n",
       "      <td>6.05905e+07</td>\n",
       "      <td>6.03746e+07</td>\n",
       "    </tr>\n",
       "    <tr>\n",
       "      <th>region_city</th>\n",
       "      <td>12447</td>\n",
       "      <td>32380</td>\n",
       "      <td>47019</td>\n",
       "    </tr>\n",
       "    <tr>\n",
       "      <th>region_county</th>\n",
       "      <td>3101</td>\n",
       "      <td>1286</td>\n",
       "      <td>3101</td>\n",
       "    </tr>\n",
       "    <tr>\n",
       "      <th>region_neighborhood</th>\n",
       "      <td>31817</td>\n",
       "      <td>NaN</td>\n",
       "      <td>275411</td>\n",
       "    </tr>\n",
       "    <tr>\n",
       "      <th>region_zip</th>\n",
       "      <td>96370</td>\n",
       "      <td>96962</td>\n",
       "      <td>96293</td>\n",
       "    </tr>\n",
       "    <tr>\n",
       "      <th>num_room</th>\n",
       "      <td>0</td>\n",
       "      <td>0</td>\n",
       "      <td>0</td>\n",
       "    </tr>\n",
       "    <tr>\n",
       "      <th>story</th>\n",
       "      <td>NaN</td>\n",
       "      <td>NaN</td>\n",
       "      <td>NaN</td>\n",
       "    </tr>\n",
       "    <tr>\n",
       "      <th>num_quarter_bathroom</th>\n",
       "      <td>NaN</td>\n",
       "      <td>1</td>\n",
       "      <td>NaN</td>\n",
       "    </tr>\n",
       "    <tr>\n",
       "      <th>material</th>\n",
       "      <td>NaN</td>\n",
       "      <td>NaN</td>\n",
       "      <td>NaN</td>\n",
       "    </tr>\n",
       "    <tr>\n",
       "      <th>num_unit</th>\n",
       "      <td>1</td>\n",
       "      <td>NaN</td>\n",
       "      <td>1</td>\n",
       "    </tr>\n",
       "    <tr>\n",
       "      <th>area_patio</th>\n",
       "      <td>NaN</td>\n",
       "      <td>NaN</td>\n",
       "      <td>NaN</td>\n",
       "    </tr>\n",
       "    <tr>\n",
       "      <th>area_storage_shed</th>\n",
       "      <td>NaN</td>\n",
       "      <td>NaN</td>\n",
       "      <td>NaN</td>\n",
       "    </tr>\n",
       "    <tr>\n",
       "      <th>build_year</th>\n",
       "      <td>1959</td>\n",
       "      <td>2014</td>\n",
       "      <td>1940</td>\n",
       "    </tr>\n",
       "    <tr>\n",
       "      <th>num_story</th>\n",
       "      <td>NaN</td>\n",
       "      <td>NaN</td>\n",
       "      <td>NaN</td>\n",
       "    </tr>\n",
       "    <tr>\n",
       "      <th>flag_fireplace</th>\n",
       "      <td>0</td>\n",
       "      <td>0</td>\n",
       "      <td>0</td>\n",
       "    </tr>\n",
       "    <tr>\n",
       "      <th>tax_building</th>\n",
       "      <td>122754</td>\n",
       "      <td>346458</td>\n",
       "      <td>61994</td>\n",
       "    </tr>\n",
       "    <tr>\n",
       "      <th>tax_dollar_value</th>\n",
       "      <td>360170</td>\n",
       "      <td>585529</td>\n",
       "      <td>119906</td>\n",
       "    </tr>\n",
       "    <tr>\n",
       "      <th>tax_assessment_year</th>\n",
       "      <td>2015</td>\n",
       "      <td>2015</td>\n",
       "      <td>2015</td>\n",
       "    </tr>\n",
       "    <tr>\n",
       "      <th>tax_land</th>\n",
       "      <td>237416</td>\n",
       "      <td>239071</td>\n",
       "      <td>57912</td>\n",
       "    </tr>\n",
       "    <tr>\n",
       "      <th>tax_amount</th>\n",
       "      <td>6735.88</td>\n",
       "      <td>10153</td>\n",
       "      <td>11484.5</td>\n",
       "    </tr>\n",
       "    <tr>\n",
       "      <th>tax_delinquency_flag</th>\n",
       "      <td>0</td>\n",
       "      <td>0</td>\n",
       "      <td>0</td>\n",
       "    </tr>\n",
       "    <tr>\n",
       "      <th>tax_delinquency_year</th>\n",
       "      <td>NaN</td>\n",
       "      <td>NaN</td>\n",
       "      <td>NaN</td>\n",
       "    </tr>\n",
       "    <tr>\n",
       "      <th>census_tract_and_block</th>\n",
       "      <td>6.03711e+13</td>\n",
       "      <td>NaN</td>\n",
       "      <td>6.03746e+13</td>\n",
       "    </tr>\n",
       "  </tbody>\n",
       "</table>\n",
       "</div>"
      ],
      "text/plain": [
       "                                      0            1            2\n",
       "id_parcel                      11016594     14366692     12098116\n",
       "logerror                         0.0276      -0.1684       -0.004\n",
       "transaction_date             2016-01-01   2016-01-01   2016-01-01\n",
       "aircon                                1          NaN            1\n",
       "architectural_style                 NaN          NaN          NaN\n",
       "area_basement                       NaN          NaN          NaN\n",
       "num_bathroom                          2          3.5            3\n",
       "num_bedroom                           3            4            2\n",
       "framing                             NaN          NaN          NaN\n",
       "quality                               4          NaN            4\n",
       "num_bathroom_calculated               2          3.5            3\n",
       "deck                                NaN          NaN          NaN\n",
       "area_firstfloor_finished            NaN          NaN          NaN\n",
       "area_total_calculated              1684         2263         2217\n",
       "area_finished_living               1684         2263         2217\n",
       "area_perimeter_living               NaN          NaN          NaN\n",
       "area_total                          NaN          NaN          NaN\n",
       "area_finished_first_floor           NaN          NaN          NaN\n",
       "area_finished_base                  NaN          NaN          NaN\n",
       "fips                               6037         6059         6037\n",
       "num_fireplace                       NaN          NaN          NaN\n",
       "num_bath                              2            3            3\n",
       "num_garage                          NaN            2          NaN\n",
       "area_garage                         NaN          468          NaN\n",
       "flag_tub                              0            0            0\n",
       "heating                               2          NaN            2\n",
       "latitude                     3.4281e+07  3.36681e+07  3.41363e+07\n",
       "longitude                  -1.18489e+08 -1.17678e+08 -1.18175e+08\n",
       "area_lot                           7528         3643        11423\n",
       "num_pool                            NaN          NaN          NaN\n",
       "area_pool                           NaN          NaN          NaN\n",
       "pooltypeid10                        NaN          NaN          NaN\n",
       "pooltypeid2                         NaN          NaN          NaN\n",
       "pooltypeid7                         NaN          NaN          NaN\n",
       "zoning_landuse_county              0100            1         0100\n",
       "zoning_landuse_type                 261          261          261\n",
       "zoning_desc                        LARS          NaN         PSR6\n",
       "census_tract_and_block_raw  6.03711e+07  6.05905e+07  6.03746e+07\n",
       "region_city                       12447        32380        47019\n",
       "region_county                      3101         1286         3101\n",
       "region_neighborhood               31817          NaN       275411\n",
       "region_zip                        96370        96962        96293\n",
       "num_room                              0            0            0\n",
       "story                               NaN          NaN          NaN\n",
       "num_quarter_bathroom                NaN            1          NaN\n",
       "material                            NaN          NaN          NaN\n",
       "num_unit                              1          NaN            1\n",
       "area_patio                          NaN          NaN          NaN\n",
       "area_storage_shed                   NaN          NaN          NaN\n",
       "build_year                         1959         2014         1940\n",
       "num_story                           NaN          NaN          NaN\n",
       "flag_fireplace                        0            0            0\n",
       "tax_building                     122754       346458        61994\n",
       "tax_dollar_value                 360170       585529       119906\n",
       "tax_assessment_year                2015         2015         2015\n",
       "tax_land                         237416       239071        57912\n",
       "tax_amount                      6735.88        10153      11484.5\n",
       "tax_delinquency_flag                  0            0            0\n",
       "tax_delinquency_year                NaN          NaN          NaN\n",
       "census_tract_and_block      6.03711e+13          NaN  6.03746e+13"
      ]
     },
     "execution_count": 5,
     "metadata": {},
     "output_type": "execute_result"
    }
   ],
   "source": [
    "merged_df.head(3).transpose()"
   ]
  },
  {
   "cell_type": "markdown",
   "metadata": {},
   "source": [
    "### Plot the target class (shares)"
   ]
  },
  {
   "cell_type": "code",
   "execution_count": 6,
   "metadata": {},
   "outputs": [
    {
     "data": {
      "image/png": "[encoded data removed]",
      "text/plain": [
       "<matplotlib.figure.Figure at 0x115065550>"
      ]
     },
     "metadata": {},
     "output_type": "display_data"
    }
   ],
   "source": [
    "import matplotlib.pyplot as plt\n",
    "\n",
    "\n",
    "plt.figure(figsize=(8,6))\n",
    "plt.scatter(range(merged_df.shape[0]), np.sort(merged_df['logerror'].values))\n",
    "plt.xlabel('index', fontsize=12)\n",
    "plt.ylabel('logerror', fontsize=12)\n",
    "plt.show()"
   ]
  },
  {
   "cell_type": "markdown",
   "metadata": {},
   "source": [
    "This looks nice with some outliers at both the ends.!\n",
    "\n",
    "Let us remove the outliers and then do a histogram plot on the same."
   ]
  },
  {
   "cell_type": "code",
   "execution_count": 7,
   "metadata": {},
   "outputs": [],
   "source": [
    "merged_df = merged_df[merged_df['logerror'] < merged_df['logerror'].quantile(.99)]\n",
    "merged_df = merged_df[merged_df['logerror'] > merged_df['logerror'].quantile(.01)]"
   ]
  },
  {
   "cell_type": "code",
   "execution_count": 8,
   "metadata": {},
   "outputs": [
    {
     "data": {
      "image/png": "[encoded data removed]",
      "text/plain": [
       "<matplotlib.figure.Figure at 0x101bf73c8>"
      ]
     },
     "metadata": {},
     "output_type": "display_data"
    }
   ],
   "source": [
    "plt.figure(figsize=(8,6))\n",
    "plt.scatter(range(merged_df.shape[0]), np.sort(merged_df['logerror']))\n",
    "plt.xlabel('index', fontsize=12)\n",
    "plt.ylabel('logerror', fontsize=12)\n",
    "plt.show()"
   ]
  },
  {
   "cell_type": "markdown",
   "metadata": {},
   "source": [
    "### Plot Histogram of Target Class (logerror)"
   ]
  },
  {
   "cell_type": "code",
   "execution_count": 9,
   "metadata": {},
   "outputs": [
    {
     "data": {
      "image/png": "[encoded data removed]",
      "text/plain": [
       "<matplotlib.figure.Figure at 0x101c53c50>"
      ]
     },
     "metadata": {},
     "output_type": "display_data"
    }
   ],
   "source": [
    "plt.figure(figsize=(12,8))\n",
    "sns.distplot(merged_df['logerror'], bins=50, kde=False)\n",
    "plt.xlabel('logerror', fontsize=12)\n",
    "plt.show()"
   ]
  },
  {
   "cell_type": "markdown",
   "metadata": {},
   "source": [
    "### More thoughts about the outcome\n",
    "In fact there are two outcomes you can look at:\n",
    "\n",
    "* logerror: log(Zestimate) - log(Saleprice). So a positive logerror means Zestimate is overestimating the Saleprice, a negative logerror means that Zestimate is underestimating Saleprice.\n",
    "* absolute logerror: a small value means that log(Zestimate) is close to log(Saleprice). So, Zestimate predictions are close to Saleprice.\n",
    "\n",
    "Any association with logerror would indicate that a feature would be associated with over- or understimating the sale price. Any association of a feature with absolute logerror would indicate that the feature is associated with a better or worse Zestimate."
   ]
  },
  {
   "cell_type": "code",
   "execution_count": 10,
   "metadata": {},
   "outputs": [
    {
     "data": {
      "image/png": "[encoded data removed]",
      "text/plain": [
       "<matplotlib.figure.Figure at 0x115073a58>"
      ]
     },
     "metadata": {},
     "output_type": "display_data"
    }
   ],
   "source": [
    "merged_df['abs_logerror'] = merged_df['logerror'].abs()\n",
    "\n",
    "plt.figure(figsize=(12,8))\n",
    "sns.distplot(merged_df['abs_logerror'], bins=50, kde=False)\n",
    "plt.xlabel('abs_logerror', fontsize=12)\n",
    "plt.show()"
   ]
  },
  {
   "cell_type": "markdown",
   "metadata": {},
   "source": [
    "### Missing values\n",
    "\n",
    "We have seen many missing values in the data peeking. How many missing values are there for each feature? In fact, some features are missing nearly completely. So, we probably have to work more with the others."
   ]
  },
  {
   "cell_type": "code",
   "execution_count": 11,
   "metadata": {},
   "outputs": [
    {
     "data": {
      "image/png": "[encoded data removed]",
      "text/plain": [
       "<matplotlib.figure.Figure at 0x119085b70>"
      ]
     },
     "metadata": {},
     "output_type": "display_data"
    }
   ],
   "source": [
    "missing_values_df = merged_df.isnull().sum(axis=0).reset_index()\n",
    "missing_values_df.columns = ['column_name', 'missing_count']\n",
    "missing_values_df['missing_ratio'] = missing_values_df['missing_count'] / merged_df.shape[0]\n",
    "\n",
    "missing_values_df = missing_values_df[missing_values_df['missing_count'] > 0]\n",
    "missing_values_df = missing_values_df.sort_values(by='missing_count')\n",
    "\n",
    "ind = np.arange(missing_values_df.shape[0])\n",
    "width = 0.9\n",
    "fig, ax = plt.subplots(figsize=(12,18))\n",
    "rects = ax.barh(ind, missing_values_df['missing_ratio'], color='blue')\n",
    "ax.set_yticks(ind)\n",
    "ax.set_yticklabels(missing_values_df['column_name'], rotation='horizontal')\n",
    "ax.set_xlabel(\"Ratio of missing values\")\n",
    "ax.set_title(\"Ratio of missing values in each column\")\n",
    "plt.show()"
   ]
  },
  {
   "cell_type": "markdown",
   "metadata": {},
   "source": [
    "### Remove features with high degree of missing values"
   ]
  },
  {
   "cell_type": "code",
   "execution_count": 12,
   "metadata": {},
   "outputs": [
    {
     "name": "stdout",
     "output_type": "stream",
     "text": [
      "Removed Features\n"
     ]
    },
    {
     "data": {
      "text/plain": [
       "['num_story',\n",
       " 'num_pool',\n",
       " 'pooltypeid7',\n",
       " 'num_quarter_bathroom',\n",
       " 'num_fireplace',\n",
       " 'area_finished_first_floor',\n",
       " 'area_firstfloor_finished',\n",
       " 'area_total',\n",
       " 'area_patio',\n",
       " 'tax_delinquency_year',\n",
       " 'pooltypeid2',\n",
       " 'pooltypeid10',\n",
       " 'area_pool',\n",
       " 'deck',\n",
       " 'area_finished_base',\n",
       " 'material',\n",
       " 'architectural_style',\n",
       " 'area_storage_shed',\n",
       " 'story',\n",
       " 'area_basement',\n",
       " 'area_perimeter_living',\n",
       " 'framing']"
      ]
     },
     "execution_count": 12,
     "metadata": {},
     "output_type": "execute_result"
    }
   ],
   "source": [
    "removed_columns_df = missing_values_df[missing_values_df['missing_ratio'] > 0.75]\n",
    "removed_columns = removed_columns_df[removed_columns_df.columns[0]].tolist()\n",
    "\n",
    "good_features_df = merged_df.drop(removed_columns, axis=1)\n",
    "\n",
    "print(\"Removed Features\")\n",
    "removed_columns"
   ]
  },
  {
   "cell_type": "code",
   "execution_count": 13,
   "metadata": {},
   "outputs": [
    {
     "data": {
      "image/png": "[encoded data removed]",
      "text/plain": [
       "<matplotlib.figure.Figure at 0x115090860>"
      ]
     },
     "metadata": {},
     "output_type": "display_data"
    }
   ],
   "source": [
    "missing_values_df = good_features_df.isnull().sum(axis=0).reset_index()\n",
    "missing_values_df.columns = ['column_name', 'missing_count']\n",
    "missing_values_df['missing_ratio'] = missing_values_df['missing_count'] / merged_df.shape[0]\n",
    "\n",
    "missing_values_df = missing_values_df[missing_values_df['missing_count'] > 0]\n",
    "missing_values_df = missing_values_df.sort_values(by='missing_count')\n",
    "\n",
    "ind = np.arange(missing_values_df.shape[0])\n",
    "width = 0.9\n",
    "fig, ax = plt.subplots(figsize=(12,18))\n",
    "rects = ax.barh(ind, missing_values_df['missing_ratio'], color='blue')\n",
    "ax.set_yticks(ind)\n",
    "ax.set_yticklabels(missing_values_df['column_name'], rotation='horizontal')\n",
    "ax.set_xlabel(\"Ratio of missing values\")\n",
    "ax.set_title(\"Ratio of missing values in each column\")\n",
    "plt.show()"
   ]
  },
  {
   "cell_type": "markdown",
   "metadata": {},
   "source": [
    "### Manual Feature Removal Engineering"
   ]
  },
  {
   "cell_type": "code",
   "execution_count": 14,
   "metadata": {},
   "outputs": [],
   "source": [
    "removed_columns = [\n",
    "    \"id_parcel\", \n",
    "    \"transaction_date\",\n",
    "    \"aircon\",\n",
    "    \"tax_assessment_year\", \n",
    "    \"region_neighborhood\",\n",
    "    \"abs_logerror\"\n",
    "]\n",
    "\n",
    "good_features_df = good_features_df.drop(removed_columns, axis=1)"
   ]
  },
  {
   "cell_type": "markdown",
   "metadata": {},
   "source": [
    "### Impute several missing value (N/A) with zero (0)"
   ]
  },
  {
   "cell_type": "code",
   "execution_count": 15,
   "metadata": {},
   "outputs": [],
   "source": [
    "good_features_df['num_garage'] = good_features_df['num_garage'].fillna(0)\n",
    "good_features_df['area_garage'] = good_features_df['area_garage'].fillna(0)\n",
    "good_features_df['heating'] = good_features_df['area_garage'].fillna(0)"
   ]
  },
  {
   "cell_type": "markdown",
   "metadata": {},
   "source": [
    "### Impute the rest of missing value (N/A) with Mean value"
   ]
  },
  {
   "cell_type": "code",
   "execution_count": 16,
   "metadata": {},
   "outputs": [],
   "source": [
    "good_features_df = good_features_df.fillna(good_features_df.mean())"
   ]
  },
  {
   "cell_type": "markdown",
   "metadata": {},
   "source": [
    "# Compute the correlation matrix"
   ]
  },
  {
   "cell_type": "code",
   "execution_count": 17,
   "metadata": {},
   "outputs": [
    {
     "data": {
      "text/plain": [
       "<matplotlib.axes._subplots.AxesSubplot at 0x101ba0710>"
      ]
     },
     "execution_count": 17,
     "metadata": {},
     "output_type": "execute_result"
    },
    {
     "data": {
      "image/png": "[encoded data removed]",
      "text/plain": [
       "<matplotlib.figure.Figure at 0x101c20160>"
      ]
     },
     "metadata": {},
     "output_type": "display_data"
    }
   ],
   "source": [
    "corr = good_features_df.corr()\n",
    "\n",
    "# Generate a mask for the upper triangle\n",
    "mask = np.zeros_like(corr, dtype=np.bool)\n",
    "mask[np.triu_indices_from(mask)] = True\n",
    "\n",
    "# Set up the matplotlib figure\n",
    "f, ax = plt.subplots(figsize=(12, 12))\n",
    "\n",
    "# Generate a custom diverging colormap\n",
    "cmap = sns.diverging_palette(220, 10, as_cmap=True)\n",
    "\n",
    "# Draw the heatmap with the mask and correct aspect ratio\n",
    "sns.heatmap(corr, mask=mask, cmap=cmap, vmax=.8, center=0,\n",
    "            square=True, linewidths=.8, cbar_kws={\"shrink\": .5})"
   ]
  },
  {
   "cell_type": "markdown",
   "metadata": {},
   "source": [
    "### Remove Correlated Features"
   ]
  },
  {
   "cell_type": "code",
   "execution_count": 18,
   "metadata": {},
   "outputs": [],
   "source": [
    "def remove_correlation(input_dataset, threshold):\n",
    "    dataset = input_dataset.copy(deep=True)\n",
    "    col_corr = set() # Set of all the names of deleted columns\n",
    "    corr_matrix = dataset.corr()\n",
    "    for i in range(len(corr_matrix.columns)):\n",
    "        for j in range(i):\n",
    "            if abs(corr_matrix.iloc[i, j]) >= threshold:\n",
    "                colname = corr_matrix.columns[i] # getting the name of column\n",
    "                colname_j = corr_matrix.columns[j] # getting the name of the other column\n",
    "                col_corr.add(colname)\n",
    "                if colname in dataset.columns:\n",
    "                    print(\"Remove '{}' due to it's similarity to '{}'\".format(colname, colname_j))\n",
    "                    del dataset[colname] # deleting the column from the dataset\n",
    "\n",
    "    return dataset, col_corr"
   ]
  },
  {
   "cell_type": "code",
   "execution_count": 19,
   "metadata": {},
   "outputs": [
    {
     "name": "stdout",
     "output_type": "stream",
     "text": [
      "Remove 'num_bathroom_calculated' due to it's similarity to 'num_bathroom'\n",
      "Remove 'area_finished_living' due to it's similarity to 'area_total_calculated'\n",
      "Remove 'num_bath' due to it's similarity to 'num_bathroom'\n",
      "Remove 'heating' due to it's similarity to 'area_garage'\n",
      "Remove 'census_tract_and_block_raw' due to it's similarity to 'fips'\n",
      "Remove 'tax_land' due to it's similarity to 'tax_dollar_value'\n",
      "Remove 'tax_amount' due to it's similarity to 'tax_dollar_value'\n",
      "Remove 'census_tract_and_block' due to it's similarity to 'fips'\n"
     ]
    },
    {
     "data": {
      "text/plain": [
       "{'area_finished_living',\n",
       " 'census_tract_and_block',\n",
       " 'census_tract_and_block_raw',\n",
       " 'heating',\n",
       " 'num_bath',\n",
       " 'num_bathroom_calculated',\n",
       " 'tax_amount',\n",
       " 'tax_land'}"
      ]
     },
     "execution_count": 19,
     "metadata": {},
     "output_type": "execute_result"
    }
   ],
   "source": [
    "# threshold value\n",
    "correlation_threshold = 0.9\n",
    "\n",
    "cleaned_df, removed_columns = remove_correlation(good_features_df, correlation_threshold)\n",
    "\n",
    "removed_columns"
   ]
  },
  {
   "cell_type": "markdown",
   "metadata": {},
   "source": [
    "### Compute the correlation matrix"
   ]
  },
  {
   "cell_type": "code",
   "execution_count": 20,
   "metadata": {},
   "outputs": [
    {
     "data": {
      "text/plain": [
       "<matplotlib.axes._subplots.AxesSubplot at 0x1257c7588>"
      ]
     },
     "execution_count": 20,
     "metadata": {},
     "output_type": "execute_result"
    },
    {
     "data": {
      "image/png": "[encoded data removed]",
      "text/plain": [
       "<matplotlib.figure.Figure at 0x115068c50>"
      ]
     },
     "metadata": {},
     "output_type": "display_data"
    }
   ],
   "source": [
    "new_corr = cleaned_df.corr()\n",
    "\n",
    "# Generate a mask for the upper triangle\n",
    "mask = np.zeros_like(new_corr, dtype=np.bool)\n",
    "mask[np.triu_indices_from(mask)] = True\n",
    "\n",
    "# Set up the matplotlib figure\n",
    "f, ax = plt.subplots(figsize=(12, 12))\n",
    "\n",
    "# Generate a custom diverging colormap\n",
    "cmap = sns.diverging_palette(220, 10, as_cmap=True)\n",
    "\n",
    "# Draw the heatmap with the mask and correct aspect ratio\n",
    "sns.heatmap(new_corr, mask=mask, cmap=cmap, vmax=.8, center=0,\n",
    "            square=True, linewidths=.5, cbar_kws={\"shrink\": .5})"
   ]
  },
  {
   "cell_type": "markdown",
   "metadata": {},
   "source": [
    "# Feature Selection with XGBoost Feature Importance Scores"
   ]
  },
  {
   "cell_type": "code",
   "execution_count": null,
   "metadata": {},
   "outputs": [],
   "source": [
    "def dataframe_split(dataframe, target_column, as_matrix=True):\n",
    "    target = dataframe[target_column]\n",
    "    features = dataframe.loc[:, dataframe.columns != target_column]\n",
    "    if as_matrix:\n",
    "        target = target.as_matrix()\n",
    "        features = features.as_matrix()\n",
    "    return features, target"
   ]
  },
  {
   "cell_type": "code",
   "execution_count": null,
   "metadata": {},
   "outputs": [],
   "source": [
    "from sklearn.model_selection import train_test_split\n",
    "from sklearn import preprocessing\n",
    "from neupy import algorithms, estimators, environment\n",
    "\n",
    "environment.reproducible()\n",
    "\n",
    "target_column = 'logerror'\n",
    "xgb_df = cleaned_df.drop([\"id_parcel\", \"transaction_date\"], axis=1)\n",
    "\n",
    "features, target = dataframe_split(xgb_df, target_column)\n",
    "\n",
    "x_train, x_test, y_train, y_test = train_test_split(\n",
    "    features,\n",
    "    target.reshape((-1, 1)),\n",
    "    test_size=0.3,\n",
    ")"
   ]
  },
  {
   "cell_type": "code",
   "execution_count": null,
   "metadata": {},
   "outputs": [],
   "source": [
    "from xgboost import XGBClassifier\n",
    "\n",
    "# fit model no training data\n",
    "xgb_model = XGBClassifier()\n",
    "xgb_model.fit(x_train, y_train.ravel())\n",
    "\n",
    "# feature importance\n",
    "xgb_model.feature_importances_"
   ]
  },
  {
   "cell_type": "markdown",
   "metadata": {},
   "source": [
    "### Plot Geo Location"
   ]
  },
  {
   "cell_type": "code",
   "execution_count": 21,
   "metadata": {},
   "outputs": [
    {
     "data": {
      "text/plain": [
       "<matplotlib.figure.Figure at 0x12580db00>"
      ]
     },
     "metadata": {},
     "output_type": "display_data"
    },
    {
     "data": {
      "image/png": "[encoded data removed]",
      "text/plain": [
       "<matplotlib.figure.Figure at 0x12581a048>"
      ]
     },
     "metadata": {},
     "output_type": "display_data"
    }
   ],
   "source": [
    "plt.figure(figsize=(12,12))\n",
    "sns.jointplot(x=cleaned_df['latitude'], y=cleaned_df['longitude'], size=10)\n",
    "plt.ylabel('Longitude', fontsize=12)\n",
    "plt.xlabel('Latitude', fontsize=12)\n",
    "plt.show()"
   ]
  },
  {
   "cell_type": "markdown",
   "metadata": {},
   "source": [
    "### One-Hot Encoding for Zoning Data"
   ]
  },
  {
   "cell_type": "code",
   "execution_count": null,
   "metadata": {},
   "outputs": [],
   "source": [
    "from sklearn import preprocessing\n",
    "le = preprocessing.LabelEncoder()\n",
    "\n",
    "zoning_df = cleaned_df.filter(like='zoning', axis=1)\n",
    "other_df = cleaned_df.drop(zoning_df.columns.tolist(), axis=1)\n",
    "\n",
    "zoning_df['zoning_landuse'] = zoning_df['zoning_landuse'].astype('category')\n",
    "\n",
    "zoning_df = pd.get_dummies(zoning_df)\n",
    "\n",
    "\n",
    "cleaned_df = pd.concat([other_df, zoning_df], axis=1)\n",
    "\n",
    "cleaned_df.head(3)"
   ]
  },
  {
   "cell_type": "markdown",
   "metadata": {},
   "source": [
    "### Test Neupy GRNN on our dataset"
   ]
  },
  {
   "cell_type": "code",
   "execution_count": 23,
   "metadata": {},
   "outputs": [],
   "source": [
    "def dataframe_split(dataframe, target_column, as_matrix=True):\n",
    "    target = dataframe[target_column]\n",
    "    features = dataframe.loc[:, dataframe.columns != target_column]\n",
    "    if as_matrix:\n",
    "        target = target.as_matrix()\n",
    "        features = features.as_matrix()\n",
    "    return features, target"
   ]
  },
  {
   "cell_type": "code",
   "execution_count": 24,
   "metadata": {},
   "outputs": [
    {
     "name": "stdout",
     "output_type": "stream",
     "text": [
      "\n",
      "Main information\n",
      "\n",
      "[ALGORITHM] GRNN\n",
      "\r\n",
      "[OPTION] verbose = True\n",
      "[OPTION] epoch_end_signal = None\n",
      "[OPTION] show_epoch = 1\n",
      "[OPTION] shuffle_data = False\n",
      "[OPTION] step = 0.1\n",
      "[OPTION] train_end_signal = None\n",
      "[OPTION] std = 0.7\n",
      "\r\n"
     ]
    },
    {
     "data": {
      "text/plain": [
       "0.10367797905152529"
      ]
     },
     "execution_count": 24,
     "metadata": {},
     "output_type": "execute_result"
    }
   ],
   "source": [
    "from sklearn.model_selection import train_test_split\n",
    "from sklearn import preprocessing\n",
    "from neupy import algorithms, estimators, environment\n",
    "\n",
    "environment.reproducible()\n",
    "\n",
    "target_column = \"logerror\"\n",
    "\n",
    "dropped_columns = [\n",
    "    \"latitude\",\n",
    "    \"longitude\",\n",
    "    \"zoning_desc\", # these value could be important\n",
    "    \"zoning_landuse_type\", # these value could be important\n",
    "    \"zoning_landuse_county\", # these value could be important\n",
    "]\n",
    "\n",
    "final_df = cleaned_df.drop(dropped_columns, axis=1)\n",
    "\n",
    "features, target = dataframe_split(final_df, target_column)\n",
    "\n",
    "x_train, x_test, y_train, y_test = train_test_split(\n",
    "    preprocessing.minmax_scale(features),\n",
    "    preprocessing.minmax_scale(target.reshape((-1, 1))),\n",
    "    test_size=0.3,\n",
    ")\n",
    "\n",
    "grnn_model = algorithms.GRNN(std=0.7, verbose=True)\n",
    "grnn_model.train(x_train, y_train)\n",
    "\n",
    "y_predicted = grnn_model.predict(x_test)\n",
    "estimators.rmse(y_predicted, y_test)"
   ]
  },
  {
   "cell_type": "code",
   "execution_count": 25,
   "metadata": {},
   "outputs": [],
   "source": [
    "import pickle\n",
    "\n",
    "\n",
    "with open('grnn.pickle', 'wb') as f:\n",
    "    pickle.dump(grnn_model, f)"
   ]
  },
  {
   "cell_type": "markdown",
   "metadata": {},
   "source": [
    "### Evaluate the model"
   ]
  },
  {
   "cell_type": "code",
   "execution_count": 26,
   "metadata": {},
   "outputs": [
    {
     "name": "stdout",
     "output_type": "stream",
     "text": [
      "Root Mean Square Error (0=Best, 1=Worst): 0.10367797905152529\n",
      "Mean Absolute Error (0=Best, 1=Worst): 0.06637403007380897\n",
      "Median Absolute Error (0=Best, 1=Worst): 0.03964219984290315\n",
      "R2 Score (1=Best, 0=Worst): 0.0005510964654145134\n",
      "Explained Variance Score (1=Best, 0=Worst): 0.0007326038126780343\n"
     ]
    }
   ],
   "source": [
    "from sklearn.metrics import r2_score, explained_variance_score, mean_absolute_error, median_absolute_error\n",
    "from neupy import estimators\n",
    "\n",
    "\n",
    "print(\"Root Mean Square Error (0=Best, 1=Worst): {}\".format(estimators.rmse(y_test, y_predicted)))\n",
    "print(\"Mean Absolute Error (0=Best, 1=Worst): {}\".format(mean_absolute_error(y_test, y_predicted)))\n",
    "print(\"Median Absolute Error (0=Best, 1=Worst): {}\".format(median_absolute_error(y_test, y_predicted)))\n",
    "print(\"R2 Score (1=Best, 0=Worst): {}\".format(r2_score(y_test, y_predicted)))\n",
    "print(\"Explained Variance Score (1=Best, 0=Worst): {}\".format(explained_variance_score(y_test, y_predicted)))"
   ]
  },
  {
   "cell_type": "markdown",
   "metadata": {},
   "source": [
    "### Residual Plot"
   ]
  },
  {
   "cell_type": "code",
   "execution_count": 27,
   "metadata": {},
   "outputs": [
    {
     "data": {
      "text/plain": [
       "<matplotlib.axes._subplots.AxesSubplot at 0x11f9e1dd8>"
      ]
     },
     "execution_count": 27,
     "metadata": {},
     "output_type": "execute_result"
    },
    {
     "data": {
      "image/png": "[encoded data removed]",
      "text/plain": [
       "<matplotlib.figure.Figure at 0x11fcf5438>"
      ]
     },
     "metadata": {},
     "output_type": "display_data"
    }
   ],
   "source": [
    "import seaborn as sns\n",
    "sns.set(style=\"whitegrid\")\n",
    "\n",
    "# Plot the residuals after fitting a linear model\n",
    "sns.residplot(y_predicted.ravel(), y_test.ravel(), lowess=True)"
   ]
  },
  {
   "cell_type": "markdown",
   "metadata": {},
   "source": [
    "There is no pattern on the residual plot, that means our model decently predict the target class, since,\n",
    "\n",
    "1. they’re pretty symmetrically distributed, tending to cluster towards the middle of the plot\n",
    "2. they’re clustered around the lower single digits of the y-axis (e.g., 0.5 or 1.5, not 30 or 150)\n",
    "3. in general there aren’t clear patterns"
   ]
  },
  {
   "cell_type": "markdown",
   "metadata": {},
   "source": [
    "### Load saved GRNN model"
   ]
  },
  {
   "cell_type": "code",
   "execution_count": 29,
   "metadata": {},
   "outputs": [],
   "source": [
    "with open('grnn.pickle', 'rb') as f:\n",
    "    grnn = pickle.load(f)\n",
    "    \n",
    "    y_predicted = grnn.predict(x_test)"
   ]
  },
  {
   "cell_type": "markdown",
   "metadata": {},
   "source": [
    "### Save Predicted Result to CSV File"
   ]
  },
  {
   "cell_type": "code",
   "execution_count": 30,
   "metadata": {},
   "outputs": [],
   "source": [
    "df_test = pd.DataFrame(np.concatenate((y_test, y_predicted), axis=1), columns={'actual_logerror', 'predicted_logerror'})\n",
    "df_test.to_csv('grnn_prediction_result.csv', sep=',', encoding='utf-8', index=False)"
   ]
  },
  {
   "cell_type": "markdown",
   "metadata": {},
   "source": [
    "### Grid search for std parameters"
   ]
  },
  {
   "cell_type": "code",
   "execution_count": null,
   "metadata": {},
   "outputs": [],
   "source": [
    "from sklearn.model_selection import train_test_split\n",
    "from sklearn import preprocessing\n",
    "from neupy import algorithms, estimators, environment\n",
    "import pickle\n",
    "\n",
    "environment.reproducible()\n",
    "\n",
    "target_column = 'logerror'\n",
    "dropped_columns = [\n",
    "    \"id_parcel\", \n",
    "    \"transaction_date\",\n",
    "    \"latitude\",\n",
    "    \"longitude\",\n",
    "    \"zoning_desc\",\n",
    "    \"zoning_landuse_type\",\n",
    "    \"zoning_landuse_county\",\n",
    "    \"abs_logerror\"\n",
    "]\n",
    "\n",
    "final_df = cleaned_df.drop(dropped_columns, axis=1)\n",
    "\n",
    "features, target = dataframe_split(final_df, target_column)\n",
    "\n",
    "x_train, x_test, y_train, y_test = train_test_split(\n",
    "    preprocessing.minmax_scale(features),\n",
    "    preprocessing.minmax_scale(target.reshape((-1, 1))),\n",
    "    test_size=0.3,\n",
    ")\n",
    "\n",
    "params = np.linspace(0.1, 0.9, 9)\n",
    "\n",
    "best_rmse = 1\n",
    "best_std = 0\n",
    "\n",
    "for std in params:\n",
    "    grnn = algorithms.GRNN(std=std, verbose=True)\n",
    "    grnn.train(x_train, y_train)\n",
    "    \n",
    "    y_predicted = grnn.predict(x_test)\n",
    "    rmse = estimators.rmse(y_predicted, y_test)\n",
    "    print(\"RMSE {} for std {}\".format(rmse, std))\n",
    "    if rmse < best_rmse:\n",
    "        best_rmse = rmse\n",
    "        best_std = std\n",
    "        \n",
    "        with open('grnn.pickle', 'wb') as f:\n",
    "            pickle.dump(grnn, f)\n",
    "    else:\n",
    "        print(\"Exit Grid Search\")\n",
    "        break\n",
    "\n",
    "print(\"Best std = {} with RMSE = {}\".format(best_std, best_rmse))"
   ]
  },
  {
   "cell_type": "markdown",
   "metadata": {},
   "source": [
    "# Load saved GRNN model"
   ]
  },
  {
   "cell_type": "code",
   "execution_count": null,
   "metadata": {},
   "outputs": [],
   "source": [
    "with open('grnn.pickle', 'rb') as f:\n",
    "    grnn = pickle.load(f)\n",
    "    \n",
    "    y_predicted = grnn.predict(x_test)"
   ]
  },
  {
   "cell_type": "code",
   "execution_count": null,
   "metadata": {},
   "outputs": [],
   "source": [
    "df_test = pd.DataFrame(np.concatenate((y_test, y_predicted), axis=1), columns={'actual_logerror', 'predicted_logerror'})\n",
    "df_test.to_csv('grnn_prediction_result_best.csv', sep=',', encoding='utf-8', index=False)"
   ]
  }
 ],
 "metadata": {
  "accelerator": "GPU",
  "colab": {
   "collapsed_sections": [],
   "default_view": {},
   "name": "KE5206_Computational_Intelligence_I_CA_1.ipynb",
   "provenance": [],
   "version": "0.3.2",
   "views": {}
  },
  "kernelspec": {
   "display_name": "Python 3",
   "language": "python",
   "name": "python3"
  },
  "language_info": {
   "codemirror_mode": {
    "name": "ipython",
    "version": 3
   },
   "file_extension": ".py",
   "mimetype": "text/x-python",
   "name": "python",
   "nbconvert_exporter": "python",
   "pygments_lexer": "ipython3",
   "version": "3.6.4"
  }
 },
 "nbformat": 4,
 "nbformat_minor": 2
}
