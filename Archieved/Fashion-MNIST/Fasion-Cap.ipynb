{
 "cells": [
  {
   "cell_type": "code",
   "execution_count": null,
   "metadata": {},
   "outputs": [],
   "source": [
    "import os"
   ]
  },
  {
   "cell_type": "code",
   "execution_count": null,
   "metadata": {},
   "outputs": [],
   "source": [
    "def tune_cap_model(learning_rate_list = [0.0001], epoch_list = [2]):\n",
    "\n",
    "  for learning_rate in learning_rate_list:\n",
    "    for epoch in epoch_list:\n",
    "      print('current variables:' + str(learning_rate) + '-' + str(epoch) )\n",
    "      order = 'python capsnet-keras/capsulenet.py --batch_size=20 --epochs='+str(learning_rate)+' --lr='+str(epoch)\n",
    "      os.system(order)\n",
    "  return"
   ]
  },
  {
   "cell_type": "code",
   "execution_count": null,
   "metadata": {},
   "outputs": [],
   "source": [
    "tune_cap_model(learning_rate_list = [0.001, 0.01, 0.1, 0.3], epoch_list = [20, 50, 100]):"
   ]
  }
 ],
 "metadata": {
  "kernelspec": {
   "display_name": "Python 3",
   "language": "python",
   "name": "python3"
  },
  "language_info": {
   "codemirror_mode": {
    "name": "ipython",
    "version": 3
   },
   "file_extension": ".py",
   "mimetype": "text/x-python",
   "name": "python",
   "nbconvert_exporter": "python",
   "pygments_lexer": "ipython3",
   "version": "3.6.5"
  }
 },
 "nbformat": 4,
 "nbformat_minor": 2
}
