{
 "cells": [
  {
   "cell_type": "code",
   "execution_count": 1,
   "metadata": {},
   "outputs": [
    {
     "ename": "ModuleNotFoundError",
     "evalue": "No module named 'mxnet'",
     "output_type": "error",
     "traceback": [
      "\u001b[1;31m---------------------------------------------------------------------------\u001b[0m",
      "\u001b[1;31mModuleNotFoundError\u001b[0m                       Traceback (most recent call last)",
      "\u001b[1;32m<ipython-input-1-1f573b3f57b7>\u001b[0m in \u001b[0;36m<module>\u001b[1;34m()\u001b[0m\n\u001b[1;32m----> 1\u001b[1;33m \u001b[1;32mimport\u001b[0m \u001b[0mmxnet\u001b[0m\u001b[1;33m\u001b[0m\u001b[0m\n\u001b[0m\u001b[0;32m      2\u001b[0m \u001b[1;32mfrom\u001b[0m \u001b[0mminpy\u001b[0m\u001b[1;33m.\u001b[0m\u001b[0mnn\u001b[0m\u001b[1;33m.\u001b[0m\u001b[0mmodel\u001b[0m \u001b[1;32mimport\u001b[0m \u001b[0mModelBase\u001b[0m\u001b[1;33m\u001b[0m\u001b[0m\n\u001b[0;32m      3\u001b[0m \u001b[1;32mimport\u001b[0m \u001b[0mminpy\u001b[0m\u001b[1;33m.\u001b[0m\u001b[0mnn\u001b[0m\u001b[1;33m.\u001b[0m\u001b[0mlayers\u001b[0m \u001b[1;32mas\u001b[0m \u001b[0mlayers\u001b[0m\u001b[1;33m\u001b[0m\u001b[0m\n\u001b[0;32m      4\u001b[0m \u001b[1;33m\u001b[0m\u001b[0m\n\u001b[0;32m      5\u001b[0m \u001b[1;32mclass\u001b[0m \u001b[0mRNNNet\u001b[0m\u001b[1;33m(\u001b[0m\u001b[0mModelBase\u001b[0m\u001b[1;33m)\u001b[0m\u001b[1;33m:\u001b[0m\u001b[1;33m\u001b[0m\u001b[0m\n",
      "\u001b[1;31mModuleNotFoundError\u001b[0m: No module named 'mxnet'"
     ]
    }
   ],
   "source": [
    "import mxnet\n",
    "from minpy.nn.model import ModelBase\n",
    "import minpy.nn.layers as layers\n",
    "\n",
    "class RNNNet(ModelBase):\n",
    "    def __init__(self,\n",
    "                 batch_size=100,\n",
    "                 input_size=1,\n",
    "                 hidden_size=64,\n",
    "                 num_classes=10):\n",
    "        super(RNNNet, self).__init__()\n",
    "        self.add_param(name='h0', shape=(batch_size, hidden_size))\\\n",
    "            .add_param(name='Wx', shape=(input_size, hidden_size))\\\n",
    "            .add_param(name='Wh', shape=(hidden_size, hidden_size),\n",
    "                       init_rule='constant',\n",
    "                       init_config={'value': np.identity(hidden_size)})\\\n",
    "            .add_param(name='b', shape=(hidden_size,),\n",
    "                       init_rule='constant',\n",
    "                       init_config={'value': np.zeros(hidden_size)})\\\n",
    "            .add_param(name='Wa', shape=(hidden_size, num_classes))\\\n",
    "            .add_param(name='ba', shape=(num_classes,))\n",
    "\n",
    "    def forward(self, X, mode):\n",
    "        seq_len = X.shape[1]\n",
    "        self.params['h0'][:] = 0\n",
    "        h = self.params['h0']\n",
    "        for t in xrange(seq_len):\n",
    "            h = layers.rnn_step(X[:, t, :], h, self.params['Wx'],\n",
    "                         self.params['Wh'], self.params['b'])\n",
    "        y = layers.affine(h, self.params['Wa'], self.params['ba'])\n",
    "\n",
    "        return y\n",
    "\n",
    "    def loss(self, predict, y):\n",
    "        return layers.softmax_loss(predict, y)"
   ]
  },
  {
   "cell_type": "code",
   "execution_count": null,
   "metadata": {},
   "outputs": [],
   "source": [
    "import joblib\n",
    "import numpy as np\n",
    "data = joblib.load(\"data/mnist.dat\")\n",
    "\n",
    "mean = np.mean(data[\"train_data\"], axis=0)\n",
    "std = np.std(data[\"train_data\"] - mean, axis=0)\n",
    "data[\"train_data\"] = (data[\"train_data\"][:] - mean)/(std+1e-5)\n",
    "data[\"test_data\"] = (data[\"test_data\"][:] - mean)/(std+1e-5)\n"
   ]
  },
  {
   "cell_type": "code",
   "execution_count": null,
   "metadata": {},
   "outputs": [],
   "source": [
    "from minpy.nn.io import NDArrayIter\n",
    "from minpy.nn.solver import Solver\n",
    "\n",
    "BATCH = 50\n",
    "INPUT_DIM = 7\n",
    "HIDDEN_DIM = 128\n",
    "\n",
    "_, dim = data[\"train_data\"].shape\n",
    "seq_len = dim / INPUT_DIM\n",
    "\n",
    "train_iter = NDArrayIter(data[\"train_data\"][:5000].reshape(5000, seq_len, INPUT_DIM),\n",
    "                         data[\"train_label\"][:5000],\n",
    "                         batch_size=BATCH,\n",
    "                         shuffle=True)\n",
    "\n",
    "test_iter = NDArrayIter(data[\"test_data\"][:1000].reshape(1000, seq_len, INPUT_DIM),\n",
    "                        data[\"test_label\"][:1000],\n",
    "                        batch_size=BATCH,\n",
    "                        shuffle=False)\n",
    "\n",
    "model = RNNNet(batch_size=BATCH, input_size=INPUT_DIM, hidden_size=HIDDEN_DIM)\n",
    "\n",
    "solver = Solver(model,\n",
    "                train_iter,\n",
    "                test_iter,\n",
    "                num_epochs=100,\n",
    "                init_rule='xavier',\n",
    "                update_rule='rmsprop',\n",
    "                optim_config={\n",
    "                        'learning_rate': 0.0002,\n",
    "                },\n",
    "                verbose=True,\n",
    "                print_every=10)\n",
    "\n",
    "solver.init()\n",
    "solver.train()"
   ]
  },
  {
   "cell_type": "code",
   "execution_count": null,
   "metadata": {},
   "outputs": [],
   "source": [
    "%matplotlib inline\n",
    "import matplotlib.pyplot as plt\n",
    "\n",
    "hist = solver.val_acc_history\n",
    "\n",
    "\"\"\"\n",
    "hist = [0.558, 0.67, 0.689, 0.709, 0.731, 0.767, 0.75, 0.799, 0.803, 0.816, \\\n",
    "        0.773, 0.797, 0.826, 0.831, 0.81, 0.823, 0.835, 0.834, 0.86, 0.825, \\\n",
    "        0.866, 0.861, 0.864, 0.87, 0.892, 0.831, 0.878, 0.866, 0.705, 0.881, \\\n",
    "        0.837, 0.893, 0.895, 0.893, 0.863, 0.884, 0.889, 0.91, 0.881, 0.898, \\\n",
    "        0.906, 0.908, 0.916, 0.915, 0.848, 0.813, 0.913, 0.927, 0.909, 0.906]\n",
    "\"\"\"\n",
    "plt.plot(hist)\n",
    "plt.xlabel(\"Epoch\")\n",
    "plt.ylabel(\"Accuracy\")\n",
    "plt.show()"
   ]
  }
 ],
 "metadata": {
  "kernelspec": {
   "display_name": "Python 3",
   "language": "python",
   "name": "python3"
  },
  "language_info": {
   "codemirror_mode": {
    "name": "ipython",
    "version": 3
   },
   "file_extension": ".py",
   "mimetype": "text/x-python",
   "name": "python",
   "nbconvert_exporter": "python",
   "pygments_lexer": "ipython3",
   "version": "3.6.5"
  }
 },
 "nbformat": 4,
 "nbformat_minor": 2
}
