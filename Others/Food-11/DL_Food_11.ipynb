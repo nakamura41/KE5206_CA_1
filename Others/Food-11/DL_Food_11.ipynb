{
 "cells": [
  {
   "cell_type": "markdown",
   "metadata": {
    "colab_type": "text",
    "id": "mnc6UNRvdidp"
   },
   "source": [
    "# get data from google drive"
   ]
  },
  {
   "cell_type": "code",
   "execution_count": 0,
   "metadata": {
    "colab": {
     "autoexec": {
      "startup": false,
      "wait_interval": 0
     }
    },
    "colab_type": "code",
    "id": "quM8A-OQ2zCM"
   },
   "outputs": [],
   "source": [
    "content = \"\"\"\n",
    "fileid=\"1flDN4YS-_QlRZLEm9MALFZvOzyZoBntr\"\n",
    "filename=\"data0427_3.zip\"\n",
    "curl -c ./cookie -s -L \"https://drive.google.com/uc?export=download&id=${fileid}\" > /dev/null\n",
    "curl -Lb ./cookie \"https://drive.google.com/uc?export=download&confirm=`awk '/download/ {print $NF}' ./cookie`&id=${fileid}\" -o ${filename}\n",
    "\"\"\"\n",
    "f = open(\"download.sh\", \"w\")\n",
    "f.write(content)\n",
    "f.close()"
   ]
  },
  {
   "cell_type": "code",
   "execution_count": 4,
   "metadata": {
    "colab": {
     "autoexec": {
      "startup": false,
      "wait_interval": 0
     },
     "base_uri": "https://localhost:8080/",
     "height": 85
    },
    "colab_type": "code",
    "executionInfo": {
     "elapsed": 6004,
     "status": "ok",
     "timestamp": 1524986838715,
     "user": {
      "displayName": "Lin King",
      "photoUrl": "https://lh3.googleusercontent.com/a/default-user=s128",
      "userId": "103400046330535562248"
     },
     "user_tz": -480
    },
    "id": "BI5vqP5u3Rlj",
    "outputId": "e66717ec-4186-4e2b-8f60-d66caa3de89f"
   },
   "outputs": [
    {
     "name": "stdout",
     "output_type": "stream",
     "text": [
      "  % Total    % Received % Xferd  Average Speed   Time    Time     Time  Current\r\n",
      "                                 Dload  Upload   Total   Spent    Left  Speed\n",
      "100   388    0   388    0     0    388      0 --:--:-- --:--:-- --:--:--  3559\n",
      "100  480M    0  480M    0     0   160M      0 --:--:--  0:00:03 --:--:--  184M\n"
     ]
    }
   ],
   "source": [
    "!sh download.sh"
   ]
  },
  {
   "cell_type": "code",
   "execution_count": 6,
   "metadata": {
    "colab": {
     "autoexec": {
      "startup": false,
      "wait_interval": 0
     },
     "base_uri": "https://localhost:8080/",
     "height": 51
    },
    "colab_type": "code",
    "executionInfo": {
     "elapsed": 8832,
     "status": "ok",
     "timestamp": 1524986877331,
     "user": {
      "displayName": "Lin King",
      "photoUrl": "https://lh3.googleusercontent.com/a/default-user=s128",
      "userId": "103400046330535562248"
     },
     "user_tz": -480
    },
    "id": "-2y3PBuC3XTi",
    "outputId": "f01aa60c-128d-40ce-ac03-1e07193556b8"
   },
   "outputs": [
    {
     "name": "stdout",
     "output_type": "stream",
     "text": [
      "Archive:  data0427_3.zip\n",
      "replace data0427_3/.DS_Store? [y]es, [n]o, [A]ll, [N]one, [r]ename: ^C\n"
     ]
    }
   ],
   "source": [
    "!unzip data0427_3.zip"
   ]
  },
  {
   "cell_type": "code",
   "execution_count": 7,
   "metadata": {
    "colab": {
     "autoexec": {
      "startup": false,
      "wait_interval": 0
     },
     "base_uri": "https://localhost:8080/",
     "height": 326
    },
    "colab_type": "code",
    "executionInfo": {
     "elapsed": 6344,
     "status": "ok",
     "timestamp": 1524986886915,
     "user": {
      "displayName": "Lin King",
      "photoUrl": "https://lh3.googleusercontent.com/a/default-user=s128",
      "userId": "103400046330535562248"
     },
     "user_tz": -480
    },
    "id": "nqiOxC0k2h6S",
    "outputId": "48df87f0-06c0-44b2-e22a-4033dab9513a"
   },
   "outputs": [
    {
     "name": "stdout",
     "output_type": "stream",
     "text": [
      "Looking in indexes: https://pypi.org/simple, https://legacy.pypi.org/simple\r\n",
      "Collecting git+git://github.com/fchollet/keras.git\r\n",
      "  Cloning git://github.com/fchollet/keras.git to /tmp/pip-req-build-qg8dxm3g\n",
      "Requirement not upgraded as not directly required: numpy>=1.9.1 in /usr/local/lib/python3.6/dist-packages (from Keras==2.1.6) (1.14.2)\n",
      "Requirement not upgraded as not directly required: scipy>=0.14 in /usr/local/lib/python3.6/dist-packages (from Keras==2.1.6) (0.19.1)\n",
      "Requirement not upgraded as not directly required: six>=1.9.0 in /usr/local/lib/python3.6/dist-packages (from Keras==2.1.6) (1.11.0)\n",
      "Requirement not upgraded as not directly required: pyyaml in /usr/local/lib/python3.6/dist-packages (from Keras==2.1.6) (3.12)\n",
      "Requirement not upgraded as not directly required: h5py in /usr/local/lib/python3.6/dist-packages (from Keras==2.1.6) (2.7.1)\n",
      "Building wheels for collected packages: Keras\n",
      "  Running setup.py bdist_wheel for Keras ... \u001b[?25l-\b \b\\\b \b|\b \bdone\n",
      "\u001b[?25h  Stored in directory: /tmp/pip-ephem-wheel-cache-tqbc29vw/wheels/dc/a7/a2/8b2d0fd23dee9c609b4c95f2b5ed27997ed17ccbeabbebfc64\n",
      "Successfully built Keras\n",
      "Installing collected packages: Keras\n",
      "  Found existing installation: Keras 2.1.6\n",
      "    Uninstalling Keras-2.1.6:\n",
      "      Successfully uninstalled Keras-2.1.6\n",
      "Successfully installed Keras-2.1.6\n"
     ]
    }
   ],
   "source": [
    "!pip install git+git://github.com/fchollet/keras.git --upgrade"
   ]
  },
  {
   "cell_type": "markdown",
   "metadata": {
    "colab_type": "text",
    "id": "UpxskP5Hd67d"
   },
   "source": [
    "# data preparation"
   ]
  },
  {
   "cell_type": "code",
   "execution_count": 0,
   "metadata": {
    "colab": {
     "autoexec": {
      "startup": false,
      "wait_interval": 0
     }
    },
    "colab_type": "code",
    "id": "dmyyvInJ3ihb"
   },
   "outputs": [],
   "source": [
    "import numpy as np\n",
    "import keras\n",
    "from keras import backend as K\n",
    "from keras.models import Sequential\n",
    "from keras.engine.training import Model\n",
    "from keras.layers import Activation\n",
    "from keras.models import load_model\n",
    "from keras.layers import GlobalAveragePooling2D\n",
    "from keras.layers.core import Dense, Flatten, Dropout\n",
    "from keras.optimizers import Adam\n",
    "from keras.metrics import categorical_crossentropy\n",
    "from keras.preprocessing.image import ImageDataGenerator\n",
    "from keras.layers.normalization import BatchNormalization\n",
    "from keras.layers.convolutional import *\n",
    "from matplotlib import pyplot as plt\n",
    "from sklearn.metrics import confusion_matrix\n",
    "from sklearn.metrics import accuracy_score\n",
    "import itertools\n",
    "import matplotlib.pyplot as plt\n",
    "%matplotlib inline"
   ]
  },
  {
   "cell_type": "code",
   "execution_count": 0,
   "metadata": {
    "colab": {
     "autoexec": {
      "startup": false,
      "wait_interval": 0
     }
    },
    "colab_type": "code",
    "id": "rqWskUar5FVk"
   },
   "outputs": [],
   "source": [
    "train_path = 'data0427_3/train'\n",
    "valid_path = 'data0427_3/valid'\n",
    "test_path = 'data0427_3/test'\n",
    "\n",
    "TRAIN_DATA_SIZE = 4280\n",
    "VALID_DATA_SIZE = 1096\n",
    "TEST_DATA_SIZE = 1096\n",
    "\n",
    "TRAIN_BATCH_SIZE = 20\n",
    "VALID_BATCH_SIZE = 8\n",
    "TEST_BATCH_SIZE = 8\n",
    "\n",
    "train_step = int(TRAIN_DATA_SIZE/TRAIN_BATCH_SIZE)\n",
    "valid_step = int(VALID_DATA_SIZE/VALID_BATCH_SIZE)\n",
    "test_step = int(TEST_DATA_SIZE/TEST_BATCH_SIZE)\n",
    "\n",
    "class_labels = ['0','1','2','3','4','5','6','7','8','9','10']\n",
    "\n",
    "EPOCHS_NUM = 5"
   ]
  },
  {
   "cell_type": "code",
   "execution_count": 20,
   "metadata": {
    "colab": {
     "autoexec": {
      "startup": false,
      "wait_interval": 0
     },
     "base_uri": "https://localhost:8080/",
     "height": 68
    },
    "colab_type": "code",
    "executionInfo": {
     "elapsed": 1486,
     "status": "ok",
     "timestamp": 1524987128198,
     "user": {
      "displayName": "Lin King",
      "photoUrl": "https://lh3.googleusercontent.com/a/default-user=s128",
      "userId": "103400046330535562248"
     },
     "user_tz": -480
    },
    "id": "WH1BFP1d5Qrc",
    "outputId": "4c2f79e8-1a8d-4096-ce15-32695aedabce"
   },
   "outputs": [
    {
     "name": "stdout",
     "output_type": "stream",
     "text": [
      "Found 4280 images belonging to 11 classes.\n",
      "Found 1096 images belonging to 11 classes.\n",
      "Found 1096 images belonging to 11 classes.\n"
     ]
    }
   ],
   "source": [
    "train_batches = ImageDataGenerator().flow_from_directory(train_path,target_size=(224,224),classes=class_labels, batch_size=TRAIN_BATCH_SIZE)\n",
    "valid_batches = ImageDataGenerator().flow_from_directory(valid_path,target_size=(224,224),classes=class_labels, batch_size=VALID_BATCH_SIZE)\n",
    "test_batches = ImageDataGenerator().flow_from_directory(test_path,target_size=(224,224),classes=class_labels, batch_size=TEST_BATCH_SIZE)"
   ]
  },
  {
   "cell_type": "markdown",
   "metadata": {
    "colab_type": "text",
    "id": "ydxSHEiK84O7"
   },
   "source": [
    "# build and train CNN"
   ]
  },
  {
   "cell_type": "code",
   "execution_count": 21,
   "metadata": {
    "colab": {
     "autoexec": {
      "startup": false,
      "wait_interval": 0
     },
     "base_uri": "https://localhost:8080/",
     "height": 680
    },
    "colab_type": "code",
    "executionInfo": {
     "elapsed": 1049,
     "status": "ok",
     "timestamp": 1524987130372,
     "user": {
      "displayName": "Lin King",
      "photoUrl": "https://lh3.googleusercontent.com/a/default-user=s128",
      "userId": "103400046330535562248"
     },
     "user_tz": -480
    },
    "id": "gkfF4Vc-8ni2",
    "outputId": "a62c7243-d081-4c2a-ad14-a7efae3fb3a3"
   },
   "outputs": [
    {
     "name": "stdout",
     "output_type": "stream",
     "text": [
      "_________________________________________________________________\n",
      "Layer (type)                 Output Shape              Param #   \n",
      "=================================================================\n",
      "conv2d_19 (Conv2D)           (None, 224, 224, 96)      2688      \n",
      "_________________________________________________________________\n",
      "dropout_7 (Dropout)          (None, 224, 224, 96)      0         \n",
      "_________________________________________________________________\n",
      "conv2d_20 (Conv2D)           (None, 224, 224, 96)      83040     \n",
      "_________________________________________________________________\n",
      "conv2d_21 (Conv2D)           (None, 112, 112, 96)      83040     \n",
      "_________________________________________________________________\n",
      "dropout_8 (Dropout)          (None, 112, 112, 96)      0         \n",
      "_________________________________________________________________\n",
      "conv2d_22 (Conv2D)           (None, 112, 112, 192)     166080    \n",
      "_________________________________________________________________\n",
      "conv2d_23 (Conv2D)           (None, 112, 112, 192)     331968    \n",
      "_________________________________________________________________\n",
      "conv2d_24 (Conv2D)           (None, 56, 56, 192)       331968    \n",
      "_________________________________________________________________\n",
      "dropout_9 (Dropout)          (None, 56, 56, 192)       0         \n",
      "_________________________________________________________________\n",
      "conv2d_25 (Conv2D)           (None, 56, 56, 192)       331968    \n",
      "_________________________________________________________________\n",
      "activation_7 (Activation)    (None, 56, 56, 192)       0         \n",
      "_________________________________________________________________\n",
      "conv2d_26 (Conv2D)           (None, 56, 56, 192)       37056     \n",
      "_________________________________________________________________\n",
      "activation_8 (Activation)    (None, 56, 56, 192)       0         \n",
      "_________________________________________________________________\n",
      "conv2d_27 (Conv2D)           (None, 56, 56, 11)        2123      \n",
      "_________________________________________________________________\n",
      "global_average_pooling2d_3 ( (None, 11)                0         \n",
      "_________________________________________________________________\n",
      "activation_9 (Activation)    (None, 11)                0         \n",
      "=================================================================\n",
      "Total params: 1,369,931\n",
      "Trainable params: 1,369,931\n",
      "Non-trainable params: 0\n",
      "_________________________________________________________________\n"
     ]
    }
   ],
   "source": [
    "# model = Sequential(\n",
    "#     [Conv2D(32,(5,5), activation='relu', input_shape=(224,224,3)),Flatten(),Dense(len(class_labels),activation='softmax')]\n",
    "# )\n",
    "\n",
    "model = Sequential()\n",
    "\n",
    "model.add(Conv2D(96, (3, 3), activation='relu', padding = 'same', input_shape=(224,224,3)))    \n",
    "model.add(Dropout(0.2))\n",
    "\n",
    "model.add(Conv2D(96, (3, 3), activation='relu', padding = 'same'))  \n",
    "model.add(Conv2D(96, (3, 3), activation='relu', padding = 'same', strides = 2))    \n",
    "model.add(Dropout(0.5))\n",
    "\n",
    "model.add(Conv2D(192, (3, 3), activation='relu', padding = 'same'))    \n",
    "model.add(Conv2D(192, (3, 3), activation='relu', padding = 'same'))\n",
    "model.add(Conv2D(192, (3, 3), activation='relu', padding = 'same', strides = 2))    \n",
    "model.add(Dropout(0.5))    \n",
    "\n",
    "model.add(Conv2D(192, (3, 3), padding = 'same'))\n",
    "model.add(Activation('relu'))\n",
    "model.add(Conv2D(192, (1, 1),padding='valid'))\n",
    "model.add(Activation('relu'))\n",
    "model.add(Conv2D(11, (1, 1), padding='valid'))\n",
    "\n",
    "model.add(GlobalAveragePooling2D())\n",
    "\n",
    "model.add(Activation('softmax'))\n",
    "\n",
    "model.summary()"
   ]
  },
  {
   "cell_type": "code",
   "execution_count": 0,
   "metadata": {
    "colab": {
     "autoexec": {
      "startup": false,
      "wait_interval": 0
     }
    },
    "colab_type": "code",
    "id": "28r6CJnWKxdf"
   },
   "outputs": [],
   "source": [
    "model.compile(Adam(lr=.01), loss='categorical_crossentropy',metrics=['accuracy'])"
   ]
  },
  {
   "cell_type": "code",
   "execution_count": 40,
   "metadata": {
    "colab": {
     "autoexec": {
      "startup": false,
      "wait_interval": 0
     },
     "base_uri": "https://localhost:8080/",
     "height": 224
    },
    "colab_type": "code",
    "executionInfo": {
     "elapsed": 1181577,
     "status": "ok",
     "timestamp": 1524991363027,
     "user": {
      "displayName": "Lin King",
      "photoUrl": "https://lh3.googleusercontent.com/a/default-user=s128",
      "userId": "103400046330535562248"
     },
     "user_tz": -480
    },
    "id": "n7mPW2xHLn-N",
    "outputId": "48e832f7-6b2d-48e7-89a0-13a589ac56b2"
   },
   "outputs": [
    {
     "name": "stdout",
     "output_type": "stream",
     "text": [
      "Epoch 1/5\n",
      "214/214 [==============================] - 236s 1s/step - loss: 14.5726 - acc: 0.0930 - val_loss: 14.6475 - val_acc: 0.0912\n",
      "Epoch 2/5\n",
      "214/214 [==============================] - 236s 1s/step - loss: 14.6117 - acc: 0.0935 - val_loss: 14.6475 - val_acc: 0.0912\n",
      "Epoch 3/5\n",
      " 87/214 [===========>..................] - ETA: 2:07 - loss: 14.6823 - acc: 0.0891214/214 [==============================] - 236s 1s/step - loss: 14.6117 - acc: 0.0935 - val_loss: 14.6475 - val_acc: 0.0912\n",
      "Epoch 4/5\n",
      "214/214 [==============================] - 236s 1s/step - loss: 14.6117 - acc: 0.0935 - val_loss: 14.6475 - val_acc: 0.0912\n",
      "Epoch 5/5\n",
      "122/214 [================>.............] - ETA: 1:32 - loss: 14.6450 - acc: 0.0914214/214 [==============================] - 236s 1s/step - loss: 14.6117 - acc: 0.0935 - val_loss: 14.6475 - val_acc: 0.0912\n"
     ]
    },
    {
     "data": {
      "text/plain": [
       "<keras.callbacks.History at 0x7fadd693ceb8>"
      ]
     },
     "execution_count": 40,
     "metadata": {
      "tags": []
     },
     "output_type": "execute_result"
    }
   ],
   "source": [
    "model.fit_generator(train_batches, steps_per_epoch=train_step, validation_data=valid_batches, validation_steps=valid_step, epochs=EPOCHS_NUM, verbose=1)"
   ]
  },
  {
   "cell_type": "markdown",
   "metadata": {
    "colab_type": "text",
    "id": "p707vRQSWOkL"
   },
   "source": [
    "# predict"
   ]
  },
  {
   "cell_type": "code",
   "execution_count": 0,
   "metadata": {
    "colab": {
     "autoexec": {
      "startup": false,
      "wait_interval": 0
     }
    },
    "colab_type": "code",
    "id": "-HKKrJ1vuiAN"
   },
   "outputs": [],
   "source": [
    "# transfer label results from [0,0,1,0] to [2]\n",
    "# def get_labels(arr):\n",
    "#   labels = np.zeros( (arr.shape[0],1) )\n",
    "#   for i in range(0,arr.shape[0]):\n",
    "#     for j in range(0,arr.shape[1]):\n",
    "#       if arr[i,j]==1:\n",
    "#         labels[i,0]=j\n",
    "#   return labels\n",
    "\n",
    "def get_labels(arr):\n",
    "  labels = np.zeros( (arr.shape[0],1) )\n",
    "  for i in range(0,arr.shape[0]):\n",
    "    row = arr[i,]\n",
    "    labels[i,0]=np.where(row==np.max(row,axis=0))[0]\n",
    "  return labels"
   ]
  },
  {
   "cell_type": "code",
   "execution_count": 0,
   "metadata": {
    "colab": {
     "autoexec": {
      "startup": false,
      "wait_interval": 0
     }
    },
    "colab_type": "code",
    "id": "PTwEW869e81f"
   },
   "outputs": [],
   "source": [
    "def get_all_labels_from_batches(batches, steps):\n",
    "  batches.reset()\n",
    "  labels = np.zeros( (1,1) )\n",
    "  for i in range(0,steps):\n",
    "    cur_imgs, cur_labels = next(batches)\n",
    "    cur_labels = get_labels(cur_labels)\n",
    "    labels = np.row_stack((labels,cur_labels))\n",
    "  labels = np.delete(labels, 0, 0)\n",
    "  batches.reset()\n",
    "  return labels"
   ]
  },
  {
   "cell_type": "code",
   "execution_count": 0,
   "metadata": {
    "colab": {
     "autoexec": {
      "startup": false,
      "wait_interval": 0
     }
    },
    "colab_type": "code",
    "id": "FfQSccj7XrWM"
   },
   "outputs": [],
   "source": [
    "def plot_confusion_matrix(cm, classes,\n",
    "                          normalize=False,\n",
    "                          title='Confusion matrix',\n",
    "                          cmap=plt.cm.Blues):\n",
    "    \"\"\"\n",
    "    This function prints and plots the confusion matrix.\n",
    "    Normalization can be applied by setting `normalize=True`.\n",
    "    \"\"\"\n",
    "    if normalize:\n",
    "        cm = cm.astype('float') / cm.sum(axis=1)[:, np.newaxis]\n",
    "        print(\"Normalized confusion matrix\")\n",
    "    else:\n",
    "        print('Confusion matrix, without normalization')\n",
    "\n",
    "    print(cm)\n",
    "\n",
    "    plt.imshow(cm, interpolation='nearest', cmap=cmap)\n",
    "    plt.title(title)\n",
    "    plt.colorbar()\n",
    "    tick_marks = np.arange(len(classes))\n",
    "    plt.xticks(tick_marks, classes, rotation=45)\n",
    "    plt.yticks(tick_marks, classes)\n",
    "\n",
    "    fmt = '.2f' if normalize else 'd'\n",
    "    thresh = cm.max() / 2.\n",
    "    for i, j in itertools.product(range(cm.shape[0]), range(cm.shape[1])):\n",
    "        plt.text(j, i, format(cm[i, j], fmt),\n",
    "                 horizontalalignment=\"center\",\n",
    "                 color=\"white\" if cm[i, j] > thresh else \"black\")\n",
    "\n",
    "    plt.tight_layout()\n",
    "    plt.ylabel('True label')\n",
    "    plt.xlabel('Predicted label')"
   ]
  },
  {
   "cell_type": "code",
   "execution_count": 0,
   "metadata": {
    "colab": {
     "autoexec": {
      "startup": false,
      "wait_interval": 0
     }
    },
    "colab_type": "code",
    "id": "pdEdr1CbWRG_"
   },
   "outputs": [],
   "source": [
    "predictions = model.predict_generator(test_batches,steps=test_step, verbose=len(class_labels))\n",
    "pred_labels = get_labels(predictions)"
   ]
  },
  {
   "cell_type": "code",
   "execution_count": 0,
   "metadata": {
    "colab": {
     "autoexec": {
      "startup": false,
      "wait_interval": 0
     }
    },
    "colab_type": "code",
    "id": "mkxGrv7fxTa4"
   },
   "outputs": [],
   "source": [
    "test_labels = get_all_labels_from_batches(test_batches, test_step)"
   ]
  },
  {
   "cell_type": "code",
   "execution_count": 44,
   "metadata": {
    "colab": {
     "autoexec": {
      "startup": false,
      "wait_interval": 0
     },
     "base_uri": "https://localhost:8080/",
     "height": 34
    },
    "colab_type": "code",
    "executionInfo": {
     "elapsed": 958,
     "status": "ok",
     "timestamp": 1524991489086,
     "user": {
      "displayName": "Lin King",
      "photoUrl": "https://lh3.googleusercontent.com/a/default-user=s128",
      "userId": "103400046330535562248"
     },
     "user_tz": -480
    },
    "id": "deehJ4e4C4zd",
    "outputId": "15994644-1076-4017-9cae-45acc3085125"
   },
   "outputs": [
    {
     "data": {
      "text/plain": [
       "0.09124087591240876"
      ]
     },
     "execution_count": 44,
     "metadata": {
      "tags": []
     },
     "output_type": "execute_result"
    }
   ],
   "source": [
    "accuracy_score(test_labels, pred_labels)"
   ]
  },
  {
   "cell_type": "code",
   "execution_count": 45,
   "metadata": {
    "colab": {
     "autoexec": {
      "startup": false,
      "wait_interval": 0
     },
     "base_uri": "https://localhost:8080/",
     "height": 515
    },
    "colab_type": "code",
    "executionInfo": {
     "elapsed": 1469,
     "status": "ok",
     "timestamp": 1524991492196,
     "user": {
      "displayName": "Lin King",
      "photoUrl": "https://lh3.googleusercontent.com/a/default-user=s128",
      "userId": "103400046330535562248"
     },
     "user_tz": -480
    },
    "id": "HxN7FSiVW8ec",
    "outputId": "65c0bef4-e8c3-4c07-f283-b4696c8681fc"
   },
   "outputs": [
    {
     "name": "stdout",
     "output_type": "stream",
     "text": [
      "Confusion matrix, without normalization\n",
      "[[  0   0   0 100   0   0   0   0   0   0   0]\n",
      " [  0   0   0 100   0   0   0   0   0   0   0]\n",
      " [  0   0   0 100   0   0   0   0   0   0   0]\n",
      " [  0   0   0 100   0   0   0   0   0   0   0]\n",
      " [  0   0   0 100   0   0   0   0   0   0   0]\n",
      " [  0   0   0 100   0   0   0   0   0   0   0]\n",
      " [  0   0   0 100   0   0   0   0   0   0   0]\n",
      " [  0   0   0  96   0   0   0   0   0   0   0]\n",
      " [  0   0   0 100   0   0   0   0   0   0   0]\n",
      " [  0   0   0 100   0   0   0   0   0   0   0]\n",
      " [  0   0   0 100   0   0   0   0   0   0   0]]\n"
     ]
    },
    {
     "data": {
      "image/png": "[encoded data removed]",
      "text/plain": [
       "<matplotlib.figure.Figure at 0x7fad7dc79128>"
      ]
     },
     "metadata": {
      "tags": []
     },
     "output_type": "display_data"
    }
   ],
   "source": [
    "cm = confusion_matrix(test_labels, pred_labels)\n",
    "plot_confusion_matrix(cm, classes=class_labels, title='confusion matrix')"
   ]
  },
  {
   "cell_type": "markdown",
   "metadata": {
    "colab_type": "text",
    "id": "Bw7FLL3gcLEr"
   },
   "source": [
    "# build vgg16 model"
   ]
  },
  {
   "cell_type": "code",
   "execution_count": 0,
   "metadata": {
    "colab": {
     "autoexec": {
      "startup": false,
      "wait_interval": 0
     }
    },
    "colab_type": "code",
    "id": "rUYSBJ_mbs6F"
   },
   "outputs": [],
   "source": [
    "vgg16_model = keras.applications.vgg16.VGG16()"
   ]
  },
  {
   "cell_type": "code",
   "execution_count": 27,
   "metadata": {
    "colab": {
     "autoexec": {
      "startup": false,
      "wait_interval": 0
     },
     "base_uri": "https://localhost:8080/",
     "height": 918
    },
    "colab_type": "code",
    "executionInfo": {
     "elapsed": 1014,
     "status": "ok",
     "timestamp": 1524967373222,
     "user": {
      "displayName": "Lin King",
      "photoUrl": "https://lh3.googleusercontent.com/a/default-user=s128",
      "userId": "103400046330535562248"
     },
     "user_tz": -480
    },
    "id": "OZZhdlbLhIns",
    "outputId": "bef76273-7fda-43b3-fd92-c3634f733003"
   },
   "outputs": [
    {
     "name": "stdout",
     "output_type": "stream",
     "text": [
      "_________________________________________________________________\n",
      "Layer (type)                 Output Shape              Param #   \n",
      "=================================================================\n",
      "input_1 (InputLayer)         (None, 224, 224, 3)       0         \n",
      "_________________________________________________________________\n",
      "block1_conv1 (Conv2D)        (None, 224, 224, 64)      1792      \n",
      "_________________________________________________________________\n",
      "block1_conv2 (Conv2D)        (None, 224, 224, 64)      36928     \n",
      "_________________________________________________________________\n",
      "block1_pool (MaxPooling2D)   (None, 112, 112, 64)      0         \n",
      "_________________________________________________________________\n",
      "block2_conv1 (Conv2D)        (None, 112, 112, 128)     73856     \n",
      "_________________________________________________________________\n",
      "block2_conv2 (Conv2D)        (None, 112, 112, 128)     147584    \n",
      "_________________________________________________________________\n",
      "block2_pool (MaxPooling2D)   (None, 56, 56, 128)       0         \n",
      "_________________________________________________________________\n",
      "block3_conv1 (Conv2D)        (None, 56, 56, 256)       295168    \n",
      "_________________________________________________________________\n",
      "block3_conv2 (Conv2D)        (None, 56, 56, 256)       590080    \n",
      "_________________________________________________________________\n",
      "block3_conv3 (Conv2D)        (None, 56, 56, 256)       590080    \n",
      "_________________________________________________________________\n",
      "block3_pool (MaxPooling2D)   (None, 28, 28, 256)       0         \n",
      "_________________________________________________________________\n",
      "block4_conv1 (Conv2D)        (None, 28, 28, 512)       1180160   \n",
      "_________________________________________________________________\n",
      "block4_conv2 (Conv2D)        (None, 28, 28, 512)       2359808   \n",
      "_________________________________________________________________\n",
      "block4_conv3 (Conv2D)        (None, 28, 28, 512)       2359808   \n",
      "_________________________________________________________________\n",
      "block4_pool (MaxPooling2D)   (None, 14, 14, 512)       0         \n",
      "_________________________________________________________________\n",
      "block5_conv1 (Conv2D)        (None, 14, 14, 512)       2359808   \n",
      "_________________________________________________________________\n",
      "block5_conv2 (Conv2D)        (None, 14, 14, 512)       2359808   \n",
      "_________________________________________________________________\n",
      "block5_conv3 (Conv2D)        (None, 14, 14, 512)       2359808   \n",
      "_________________________________________________________________\n",
      "block5_pool (MaxPooling2D)   (None, 7, 7, 512)         0         \n",
      "_________________________________________________________________\n",
      "flatten (Flatten)            (None, 25088)             0         \n",
      "_________________________________________________________________\n",
      "fc1 (Dense)                  (None, 4096)              102764544 \n",
      "_________________________________________________________________\n",
      "fc2 (Dense)                  (None, 4096)              16781312  \n",
      "_________________________________________________________________\n",
      "predictions (Dense)          (None, 1000)              4097000   \n",
      "=================================================================\n",
      "Total params: 138,357,544\n",
      "Trainable params: 138,357,544\n",
      "Non-trainable params: 0\n",
      "_________________________________________________________________\n"
     ]
    }
   ],
   "source": [
    "vgg16_model.summary()"
   ]
  },
  {
   "cell_type": "code",
   "execution_count": 0,
   "metadata": {
    "colab": {
     "autoexec": {
      "startup": false,
      "wait_interval": 0
     }
    },
    "colab_type": "code",
    "id": "Lb6xbypzhLv3"
   },
   "outputs": [],
   "source": [
    "vggmodel = Sequential()\n",
    "for layer in vgg16_model.layers:\n",
    "  vggmodel.add(layer)"
   ]
  },
  {
   "cell_type": "code",
   "execution_count": 91,
   "metadata": {
    "colab": {
     "autoexec": {
      "startup": false,
      "wait_interval": 0
     },
     "base_uri": "https://localhost:8080/",
     "height": 918
    },
    "colab_type": "code",
    "executionInfo": {
     "elapsed": 955,
     "status": "ok",
     "timestamp": 1525007408710,
     "user": {
      "displayName": "Lin King",
      "photoUrl": "https://lh3.googleusercontent.com/a/default-user=s128",
      "userId": "103400046330535562248"
     },
     "user_tz": -480
    },
    "id": "amM9TuK8jwsJ",
    "outputId": "4c0d14be-b06b-4c88-c3a4-321ab1e533ae"
   },
   "outputs": [
    {
     "name": "stdout",
     "output_type": "stream",
     "text": [
      "_________________________________________________________________\n",
      "Layer (type)                 Output Shape              Param #   \n",
      "=================================================================\n",
      "input_7 (InputLayer)         (None, 224, 224, 3)       0         \n",
      "_________________________________________________________________\n",
      "block1_conv1 (Conv2D)        (None, 224, 224, 64)      1792      \n",
      "_________________________________________________________________\n",
      "block1_conv2 (Conv2D)        (None, 224, 224, 64)      36928     \n",
      "_________________________________________________________________\n",
      "block1_pool (MaxPooling2D)   (None, 112, 112, 64)      0         \n",
      "_________________________________________________________________\n",
      "block2_conv1 (Conv2D)        (None, 112, 112, 128)     73856     \n",
      "_________________________________________________________________\n",
      "block2_conv2 (Conv2D)        (None, 112, 112, 128)     147584    \n",
      "_________________________________________________________________\n",
      "block2_pool (MaxPooling2D)   (None, 56, 56, 128)       0         \n",
      "_________________________________________________________________\n",
      "block3_conv1 (Conv2D)        (None, 56, 56, 256)       295168    \n",
      "_________________________________________________________________\n",
      "block3_conv2 (Conv2D)        (None, 56, 56, 256)       590080    \n",
      "_________________________________________________________________\n",
      "block3_conv3 (Conv2D)        (None, 56, 56, 256)       590080    \n",
      "_________________________________________________________________\n",
      "block3_pool (MaxPooling2D)   (None, 28, 28, 256)       0         \n",
      "_________________________________________________________________\n",
      "block4_conv1 (Conv2D)        (None, 28, 28, 512)       1180160   \n",
      "_________________________________________________________________\n",
      "block4_conv2 (Conv2D)        (None, 28, 28, 512)       2359808   \n",
      "_________________________________________________________________\n",
      "block4_conv3 (Conv2D)        (None, 28, 28, 512)       2359808   \n",
      "_________________________________________________________________\n",
      "block4_pool (MaxPooling2D)   (None, 14, 14, 512)       0         \n",
      "_________________________________________________________________\n",
      "block5_conv1 (Conv2D)        (None, 14, 14, 512)       2359808   \n",
      "_________________________________________________________________\n",
      "block5_conv2 (Conv2D)        (None, 14, 14, 512)       2359808   \n",
      "_________________________________________________________________\n",
      "block5_conv3 (Conv2D)        (None, 14, 14, 512)       2359808   \n",
      "_________________________________________________________________\n",
      "block5_pool (MaxPooling2D)   (None, 7, 7, 512)         0         \n",
      "_________________________________________________________________\n",
      "flatten (Flatten)            (None, 25088)             0         \n",
      "_________________________________________________________________\n",
      "fc1 (Dense)                  (None, 4096)              102764544 \n",
      "_________________________________________________________________\n",
      "fc2 (Dense)                  (None, 4096)              16781312  \n",
      "_________________________________________________________________\n",
      "predictions (Dense)          (None, 1000)              4097000   \n",
      "=================================================================\n",
      "Total params: 138,357,544\n",
      "Trainable params: 138,357,544\n",
      "Non-trainable params: 0\n",
      "_________________________________________________________________\n"
     ]
    }
   ],
   "source": [
    "vggmodel.summary()"
   ]
  },
  {
   "cell_type": "code",
   "execution_count": 92,
   "metadata": {
    "colab": {
     "autoexec": {
      "startup": false,
      "wait_interval": 0
     },
     "base_uri": "https://localhost:8080/",
     "height": 34
    },
    "colab_type": "code",
    "executionInfo": {
     "elapsed": 893,
     "status": "ok",
     "timestamp": 1525007415109,
     "user": {
      "displayName": "Lin King",
      "photoUrl": "https://lh3.googleusercontent.com/a/default-user=s128",
      "userId": "103400046330535562248"
     },
     "user_tz": -480
    },
    "id": "TdLoHO4bj0U1",
    "outputId": "1aec247a-6e9f-465c-832c-a42333213bbb"
   },
   "outputs": [
    {
     "data": {
      "text/plain": [
       "<keras.layers.core.Dense at 0x7fad2e7f8cc0>"
      ]
     },
     "execution_count": 92,
     "metadata": {
      "tags": []
     },
     "output_type": "execute_result"
    }
   ],
   "source": [
    "vggmodel.layers.pop()"
   ]
  },
  {
   "cell_type": "code",
   "execution_count": 0,
   "metadata": {
    "colab": {
     "autoexec": {
      "startup": false,
      "wait_interval": 0
     }
    },
    "colab_type": "code",
    "id": "lIBgAmJvj6Pj"
   },
   "outputs": [],
   "source": [
    "for layer in vggmodel.layers:\n",
    "  layer.trainable = False\n",
    "vggmodel.add(Dense(len(class_labels), activation = 'softmax'))"
   ]
  },
  {
   "cell_type": "code",
   "execution_count": 94,
   "metadata": {
    "colab": {
     "autoexec": {
      "startup": false,
      "wait_interval": 0
     },
     "base_uri": "https://localhost:8080/",
     "height": 918
    },
    "colab_type": "code",
    "executionInfo": {
     "elapsed": 796,
     "status": "ok",
     "timestamp": 1525007424582,
     "user": {
      "displayName": "Lin King",
      "photoUrl": "https://lh3.googleusercontent.com/a/default-user=s128",
      "userId": "103400046330535562248"
     },
     "user_tz": -480
    },
    "id": "EBXAwnUNkL4j",
    "outputId": "2fef8897-b6c4-49f7-bd5c-e9dda5d6ec31"
   },
   "outputs": [
    {
     "name": "stdout",
     "output_type": "stream",
     "text": [
      "_________________________________________________________________\n",
      "Layer (type)                 Output Shape              Param #   \n",
      "=================================================================\n",
      "input_7 (InputLayer)         (None, 224, 224, 3)       0         \n",
      "_________________________________________________________________\n",
      "block1_conv1 (Conv2D)        (None, 224, 224, 64)      1792      \n",
      "_________________________________________________________________\n",
      "block1_conv2 (Conv2D)        (None, 224, 224, 64)      36928     \n",
      "_________________________________________________________________\n",
      "block1_pool (MaxPooling2D)   (None, 112, 112, 64)      0         \n",
      "_________________________________________________________________\n",
      "block2_conv1 (Conv2D)        (None, 112, 112, 128)     73856     \n",
      "_________________________________________________________________\n",
      "block2_conv2 (Conv2D)        (None, 112, 112, 128)     147584    \n",
      "_________________________________________________________________\n",
      "block2_pool (MaxPooling2D)   (None, 56, 56, 128)       0         \n",
      "_________________________________________________________________\n",
      "block3_conv1 (Conv2D)        (None, 56, 56, 256)       295168    \n",
      "_________________________________________________________________\n",
      "block3_conv2 (Conv2D)        (None, 56, 56, 256)       590080    \n",
      "_________________________________________________________________\n",
      "block3_conv3 (Conv2D)        (None, 56, 56, 256)       590080    \n",
      "_________________________________________________________________\n",
      "block3_pool (MaxPooling2D)   (None, 28, 28, 256)       0         \n",
      "_________________________________________________________________\n",
      "block4_conv1 (Conv2D)        (None, 28, 28, 512)       1180160   \n",
      "_________________________________________________________________\n",
      "block4_conv2 (Conv2D)        (None, 28, 28, 512)       2359808   \n",
      "_________________________________________________________________\n",
      "block4_conv3 (Conv2D)        (None, 28, 28, 512)       2359808   \n",
      "_________________________________________________________________\n",
      "block4_pool (MaxPooling2D)   (None, 14, 14, 512)       0         \n",
      "_________________________________________________________________\n",
      "block5_conv1 (Conv2D)        (None, 14, 14, 512)       2359808   \n",
      "_________________________________________________________________\n",
      "block5_conv2 (Conv2D)        (None, 14, 14, 512)       2359808   \n",
      "_________________________________________________________________\n",
      "block5_conv3 (Conv2D)        (None, 14, 14, 512)       2359808   \n",
      "_________________________________________________________________\n",
      "block5_pool (MaxPooling2D)   (None, 7, 7, 512)         0         \n",
      "_________________________________________________________________\n",
      "flatten (Flatten)            (None, 25088)             0         \n",
      "_________________________________________________________________\n",
      "fc1 (Dense)                  (None, 4096)              102764544 \n",
      "_________________________________________________________________\n",
      "fc2 (Dense)                  (None, 4096)              16781312  \n",
      "_________________________________________________________________\n",
      "dense_3 (Dense)              (None, 11)                11011     \n",
      "=================================================================\n",
      "Total params: 134,271,555\n",
      "Trainable params: 11,011\n",
      "Non-trainable params: 134,260,544\n",
      "_________________________________________________________________\n"
     ]
    }
   ],
   "source": [
    "vggmodel.summary()"
   ]
  },
  {
   "cell_type": "code",
   "execution_count": 0,
   "metadata": {
    "colab": {
     "autoexec": {
      "startup": false,
      "wait_interval": 0
     }
    },
    "colab_type": "code",
    "id": "6ZZnSpHzlSf1"
   },
   "outputs": [],
   "source": [
    "vggmodel.compile(Adam(lr=.0001), loss='categorical_crossentropy',metrics=['accuracy'])"
   ]
  },
  {
   "cell_type": "code",
   "execution_count": 96,
   "metadata": {
    "colab": {
     "autoexec": {
      "startup": false,
      "wait_interval": 0
     },
     "base_uri": "https://localhost:8080/",
     "height": 224
    },
    "colab_type": "code",
    "executionInfo": {
     "elapsed": 409384,
     "status": "ok",
     "timestamp": 1525007839799,
     "user": {
      "displayName": "Lin King",
      "photoUrl": "https://lh3.googleusercontent.com/a/default-user=s128",
      "userId": "103400046330535562248"
     },
     "user_tz": -480
    },
    "id": "KbuuwH9ilC9F",
    "outputId": "17d6fc64-01fd-43ad-aec0-7e306773ec6b"
   },
   "outputs": [
    {
     "name": "stdout",
     "output_type": "stream",
     "text": [
      "Epoch 1/5\n",
      "214/214 [==============================] - 92s 428ms/step - loss: 2.3720 - acc: 0.3621 - val_loss: 2.3529 - val_acc: 0.5009\n",
      "Epoch 2/5\n",
      "214/214 [==============================] - 80s 372ms/step - loss: 2.3366 - acc: 0.5589 - val_loss: 2.3282 - val_acc: 0.5593\n",
      "Epoch 3/5\n",
      " 90/214 [===========>..................] - ETA: 34s - loss: 2.3153 - acc: 0.6261214/214 [==============================] - 79s 368ms/step - loss: 2.3103 - acc: 0.6301 - val_loss: 2.3067 - val_acc: 0.5958\n",
      "Epoch 4/5\n",
      "214/214 [==============================] - 79s 369ms/step - loss: 2.2852 - acc: 0.6759 - val_loss: 2.2859 - val_acc: 0.6296\n",
      "Epoch 5/5\n",
      "125/214 [================>.............] - ETA: 24s - loss: 2.2619 - acc: 0.7224214/214 [==============================] - 79s 369ms/step - loss: 2.2597 - acc: 0.7093 - val_loss: 2.2649 - val_acc: 0.6451\n"
     ]
    },
    {
     "data": {
      "text/plain": [
       "<keras.callbacks.History at 0x7fad2e5a6518>"
      ]
     },
     "execution_count": 96,
     "metadata": {
      "tags": []
     },
     "output_type": "execute_result"
    }
   ],
   "source": [
    "vggmodel.fit_generator(train_batches, steps_per_epoch=train_step, validation_data=valid_batches, validation_steps=valid_step, epochs=EPOCHS_NUM, verbose=1)"
   ]
  },
  {
   "cell_type": "code",
   "execution_count": 0,
   "metadata": {
    "colab": {
     "autoexec": {
      "startup": false,
      "wait_interval": 0
     }
    },
    "colab_type": "code",
    "id": "aQFAvbCEpNny"
   },
   "outputs": [],
   "source": [
    "vgg_predictions = vggmodel.predict_generator(test_batches,steps=test_step, verbose=len(class_labels))\n",
    "pred_vgg_labels = get_labels(vgg_predictions)"
   ]
  },
  {
   "cell_type": "code",
   "execution_count": 98,
   "metadata": {
    "colab": {
     "autoexec": {
      "startup": false,
      "wait_interval": 0
     },
     "base_uri": "https://localhost:8080/",
     "height": 34
    },
    "colab_type": "code",
    "executionInfo": {
     "elapsed": 2575,
     "status": "ok",
     "timestamp": 1525007965474,
     "user": {
      "displayName": "Lin King",
      "photoUrl": "https://lh3.googleusercontent.com/a/default-user=s128",
      "userId": "103400046330535562248"
     },
     "user_tz": -480
    },
    "id": "Nt6RJVV5JHEz",
    "outputId": "d846b82d-3ea7-4a23-bd7f-982bceb9f684"
   },
   "outputs": [
    {
     "data": {
      "text/plain": [
       "0.07664233576642336"
      ]
     },
     "execution_count": 98,
     "metadata": {
      "tags": []
     },
     "output_type": "execute_result"
    }
   ],
   "source": [
    "accuracy_score(test_labels, pred_vgg_labels)"
   ]
  },
  {
   "cell_type": "code",
   "execution_count": 99,
   "metadata": {
    "colab": {
     "autoexec": {
      "startup": false,
      "wait_interval": 0
     },
     "base_uri": "https://localhost:8080/",
     "height": 515
    },
    "colab_type": "code",
    "executionInfo": {
     "elapsed": 2311,
     "status": "ok",
     "timestamp": 1525007969976,
     "user": {
      "displayName": "Lin King",
      "photoUrl": "https://lh3.googleusercontent.com/a/default-user=s128",
      "userId": "103400046330535562248"
     },
     "user_tz": -480
    },
    "id": "lBsMMsMzmNvu",
    "outputId": "6f114b3a-ffbb-4b41-92ae-ad32c2cef289"
   },
   "outputs": [
    {
     "name": "stdout",
     "output_type": "stream",
     "text": [
      "Confusion matrix, without normalization\n",
      "[[ 8 15  3 13  4 13 10 10  9  7  8]\n",
      " [ 5 14  2 10  8 11  9 17  4 12  8]\n",
      " [ 9 13  0  9  9 15 11  6 11 11  6]\n",
      " [ 8  8  3  8 13 14  9  7  8 13  9]\n",
      " [13 15  0  6  9 11  9 13  5 13  6]\n",
      " [ 6 10  1 13 10 10  9 10  7 14 10]\n",
      " [ 9 13  6  6  7 15  7 11  7  9 10]\n",
      " [16 11  1  9  8 15 11  7  6  4  8]\n",
      " [11 10  3  8 11 12 12  6  3 16  8]\n",
      " [12 13  0 10  7 27  8  2  9  8  4]\n",
      " [12 12  0  8 10 14 10  3  9 12 10]]\n"
     ]
    },
    {
     "data": {
      "image/png": "[encoded data removed]",
      "text/plain": [
       "<matplotlib.figure.Figure at 0x7facfba37c18>"
      ]
     },
     "metadata": {
      "tags": []
     },
     "output_type": "display_data"
    }
   ],
   "source": [
    "vgg_cm = confusion_matrix(test_labels, pred_vgg_labels)\n",
    "plot_confusion_matrix(vgg_cm, classes=class_labels, title='confusion matrix')"
   ]
  },
  {
   "cell_type": "markdown",
   "metadata": {
    "colab_type": "text",
    "id": "fUlpaRoFK_TW"
   },
   "source": [
    "# save/load model"
   ]
  },
  {
   "cell_type": "code",
   "execution_count": 0,
   "metadata": {
    "colab": {
     "autoexec": {
      "startup": false,
      "wait_interval": 0
     }
    },
    "colab_type": "code",
    "id": "LGdthh29LJ2N"
   },
   "outputs": [],
   "source": [
    "!mkdir models"
   ]
  },
  {
   "cell_type": "code",
   "execution_count": 0,
   "metadata": {
    "colab": {
     "autoexec": {
      "startup": false,
      "wait_interval": 0
     }
    },
    "colab_type": "code",
    "id": "KuzPULzVK9qj"
   },
   "outputs": [],
   "source": [
    "model.save('models/model.h5')"
   ]
  },
  {
   "cell_type": "code",
   "execution_count": 0,
   "metadata": {
    "colab": {
     "autoexec": {
      "startup": false,
      "wait_interval": 0
     }
    },
    "colab_type": "code",
    "id": "NqItXp7ZTWsX"
   },
   "outputs": [],
   "source": [
    "loaded_model = load_model('models/model.h5')"
   ]
  },
  {
   "cell_type": "code",
   "execution_count": 103,
   "metadata": {
    "colab": {
     "autoexec": {
      "startup": false,
      "wait_interval": 0
     },
     "base_uri": "https://localhost:8080/",
     "height": 680
    },
    "colab_type": "code",
    "executionInfo": {
     "elapsed": 815,
     "status": "ok",
     "timestamp": 1525008091524,
     "user": {
      "displayName": "Lin King",
      "photoUrl": "https://lh3.googleusercontent.com/a/default-user=s128",
      "userId": "103400046330535562248"
     },
     "user_tz": -480
    },
    "id": "P5DnYlWdT5H0",
    "outputId": "070e9f58-0911-40f6-a487-83f131a38036"
   },
   "outputs": [
    {
     "name": "stdout",
     "output_type": "stream",
     "text": [
      "_________________________________________________________________\n",
      "Layer (type)                 Output Shape              Param #   \n",
      "=================================================================\n",
      "conv2d_19 (Conv2D)           (None, 224, 224, 96)      2688      \n",
      "_________________________________________________________________\n",
      "dropout_7 (Dropout)          (None, 224, 224, 96)      0         \n",
      "_________________________________________________________________\n",
      "conv2d_20 (Conv2D)           (None, 224, 224, 96)      83040     \n",
      "_________________________________________________________________\n",
      "conv2d_21 (Conv2D)           (None, 112, 112, 96)      83040     \n",
      "_________________________________________________________________\n",
      "dropout_8 (Dropout)          (None, 112, 112, 96)      0         \n",
      "_________________________________________________________________\n",
      "conv2d_22 (Conv2D)           (None, 112, 112, 192)     166080    \n",
      "_________________________________________________________________\n",
      "conv2d_23 (Conv2D)           (None, 112, 112, 192)     331968    \n",
      "_________________________________________________________________\n",
      "conv2d_24 (Conv2D)           (None, 56, 56, 192)       331968    \n",
      "_________________________________________________________________\n",
      "dropout_9 (Dropout)          (None, 56, 56, 192)       0         \n",
      "_________________________________________________________________\n",
      "conv2d_25 (Conv2D)           (None, 56, 56, 192)       331968    \n",
      "_________________________________________________________________\n",
      "activation_7 (Activation)    (None, 56, 56, 192)       0         \n",
      "_________________________________________________________________\n",
      "conv2d_26 (Conv2D)           (None, 56, 56, 192)       37056     \n",
      "_________________________________________________________________\n",
      "activation_8 (Activation)    (None, 56, 56, 192)       0         \n",
      "_________________________________________________________________\n",
      "conv2d_27 (Conv2D)           (None, 56, 56, 11)        2123      \n",
      "_________________________________________________________________\n",
      "global_average_pooling2d_3 ( (None, 11)                0         \n",
      "_________________________________________________________________\n",
      "activation_9 (Activation)    (None, 11)                0         \n",
      "=================================================================\n",
      "Total params: 1,369,931\n",
      "Trainable params: 1,369,931\n",
      "Non-trainable params: 0\n",
      "_________________________________________________________________\n"
     ]
    }
   ],
   "source": [
    "loaded_model.summary()"
   ]
  },
  {
   "cell_type": "markdown",
   "metadata": {
    "colab_type": "text",
    "id": "k5A7SKHYBvD1"
   },
   "source": [
    "# inception_v3(doing)"
   ]
  },
  {
   "cell_type": "code",
   "execution_count": 0,
   "metadata": {
    "colab": {
     "autoexec": {
      "startup": false,
      "wait_interval": 0
     }
    },
    "colab_type": "code",
    "id": "2x-cTGFELbj9"
   },
   "outputs": [],
   "source": [
    "# inc3_model = keras.applications.inception_v3.InceptionV3()\n",
    "resv2_model = keras.applications.inception_resnet_v2.InceptionResNetV2()"
   ]
  },
  {
   "cell_type": "code",
   "execution_count": 0,
   "metadata": {
    "colab": {
     "autoexec": {
      "startup": false,
      "wait_interval": 0
     }
    },
    "colab_type": "code",
    "id": "HHyRQ1X6EsLN"
   },
   "outputs": [],
   "source": [
    "resv2_model.summary()"
   ]
  },
  {
   "cell_type": "code",
   "execution_count": 71,
   "metadata": {
    "colab": {
     "autoexec": {
      "startup": false,
      "wait_interval": 0
     },
     "base_uri": "https://localhost:8080/",
     "height": 34
    },
    "colab_type": "code",
    "executionInfo": {
     "elapsed": 842,
     "status": "ok",
     "timestamp": 1524999998417,
     "user": {
      "displayName": "Lin King",
      "photoUrl": "https://lh3.googleusercontent.com/a/default-user=s128",
      "userId": "103400046330535562248"
     },
     "user_tz": -480
    },
    "id": "WwgFVLaTFIe8",
    "outputId": "aa7ff3ea-029e-4575-e69b-63cbf922f6d9"
   },
   "outputs": [
    {
     "data": {
      "text/plain": [
       "keras.engine.training.Model"
      ]
     },
     "execution_count": 71,
     "metadata": {
      "tags": []
     },
     "output_type": "execute_result"
    }
   ],
   "source": [
    "type(inc3_model)"
   ]
  },
  {
   "cell_type": "code",
   "execution_count": 0,
   "metadata": {
    "colab": {
     "autoexec": {
      "startup": false,
      "wait_interval": 0
     }
    },
    "colab_type": "code",
    "id": "DAJJB4tsDahk"
   },
   "outputs": [],
   "source": [
    "resv2model = Sequential()\n",
    "for layer in resv2_model.layers:\n",
    "  resv2model.add(layer)"
   ]
  },
  {
   "cell_type": "code",
   "execution_count": 82,
   "metadata": {
    "colab": {
     "autoexec": {
      "startup": false,
      "wait_interval": 0
     },
     "base_uri": "https://localhost:8080/",
     "height": 198
    },
    "colab_type": "code",
    "executionInfo": {
     "elapsed": 772,
     "status": "error",
     "timestamp": 1525001124195,
     "user": {
      "displayName": "Lin King",
      "photoUrl": "https://lh3.googleusercontent.com/a/default-user=s128",
      "userId": "103400046330535562248"
     },
     "user_tz": -480
    },
    "id": "CSq8DNK1EdQb",
    "outputId": "40977786-5db8-4ba7-cb65-21e201211083"
   },
   "outputs": [
    {
     "ename": "AttributeError",
     "evalue": "ignored",
     "output_type": "error",
     "traceback": [
      "\u001b[0;31m---------------------------------------------------------------------------\u001b[0m",
      "\u001b[0;31mAttributeError\u001b[0m                            Traceback (most recent call last)",
      "\u001b[0;32m<ipython-input-82-5c54cb78ca9a>\u001b[0m in \u001b[0;36m<module>\u001b[0;34m()\u001b[0m\n\u001b[1;32m      2\u001b[0m \u001b[0;32mfor\u001b[0m \u001b[0mlayer\u001b[0m \u001b[0;32min\u001b[0m \u001b[0mresv2model\u001b[0m\u001b[0;34m.\u001b[0m\u001b[0mlayers\u001b[0m\u001b[0;34m:\u001b[0m\u001b[0;34m\u001b[0m\u001b[0m\n\u001b[1;32m      3\u001b[0m   \u001b[0mlayer\u001b[0m\u001b[0;34m.\u001b[0m\u001b[0mtrainable\u001b[0m \u001b[0;34m=\u001b[0m \u001b[0;32mFalse\u001b[0m\u001b[0;34m\u001b[0m\u001b[0m\n\u001b[0;32m----> 4\u001b[0;31m \u001b[0mresv2model\u001b[0m\u001b[0;34m.\u001b[0m\u001b[0mlayers\u001b[0m\u001b[0;34m.\u001b[0m\u001b[0madd\u001b[0m\u001b[0;34m(\u001b[0m\u001b[0mDense\u001b[0m\u001b[0;34m(\u001b[0m\u001b[0mlen\u001b[0m\u001b[0;34m(\u001b[0m\u001b[0mclass_labels\u001b[0m\u001b[0;34m)\u001b[0m\u001b[0;34m,\u001b[0m \u001b[0mactivation\u001b[0m \u001b[0;34m=\u001b[0m \u001b[0;34m'softmax'\u001b[0m\u001b[0;34m)\u001b[0m\u001b[0;34m)\u001b[0m\u001b[0;34m\u001b[0m\u001b[0m\n\u001b[0m",
      "\u001b[0;31mAttributeError\u001b[0m: 'list' object has no attribute 'add'"
     ]
    }
   ],
   "source": [
    "resv2model.layers.pop()\n",
    "for layer in resv2model.layers:\n",
    "  layer.trainable = False\n",
    "resv2model.layers.add(Dense(len(class_labels), activation = 'softmax'))"
   ]
  },
  {
   "cell_type": "code",
   "execution_count": 0,
   "metadata": {
    "colab": {
     "autoexec": {
      "startup": false,
      "wait_interval": 0
     }
    },
    "colab_type": "code",
    "id": "XpkIs_wPD4_j"
   },
   "outputs": [],
   "source": [
    "inc3model.compile(Adam(lr=.01), loss='categorical_crossentropy',metrics=['accuracy'])\n",
    "inc3model.fit_generator(train_batches, steps_per_epoch=train_step, validation_data=valid_batches, validation_steps=valid_step, epochs=EPOCHS_NUM, verbose=1)"
   ]
  },
  {
   "cell_type": "code",
   "execution_count": 0,
   "metadata": {
    "colab": {
     "autoexec": {
      "startup": false,
      "wait_interval": 0
     }
    },
    "colab_type": "code",
    "id": "KwJ2-rP_CGeo"
   },
   "outputs": [],
   "source": [
    "inc3_predictions = inc3_model.predict_generator(test_batches,steps=test_step, verbose=len(class_labels))\n",
    "pred_inc3_labels = get_labels(inc3_predictions)"
   ]
  },
  {
   "cell_type": "code",
   "execution_count": 61,
   "metadata": {
    "colab": {
     "autoexec": {
      "startup": false,
      "wait_interval": 0
     },
     "base_uri": "https://localhost:8080/",
     "height": 34
    },
    "colab_type": "code",
    "executionInfo": {
     "elapsed": 779,
     "status": "ok",
     "timestamp": 1524999430860,
     "user": {
      "displayName": "Lin King",
      "photoUrl": "https://lh3.googleusercontent.com/a/default-user=s128",
      "userId": "103400046330535562248"
     },
     "user_tz": -480
    },
    "id": "An43T-IrDGYm",
    "outputId": "b2749f5b-6bd7-4ea5-fd33-8640da664a4d"
   },
   "outputs": [
    {
     "data": {
      "text/plain": [
       "(1096, 1000)"
      ]
     },
     "execution_count": 61,
     "metadata": {
      "tags": []
     },
     "output_type": "execute_result"
    }
   ],
   "source": [
    "inc3_predictions.shape"
   ]
  },
  {
   "cell_type": "code",
   "execution_count": 59,
   "metadata": {
    "colab": {
     "autoexec": {
      "startup": false,
      "wait_interval": 0
     },
     "base_uri": "https://localhost:8080/",
     "height": 34
    },
    "colab_type": "code",
    "executionInfo": {
     "elapsed": 1123,
     "status": "ok",
     "timestamp": 1524999407027,
     "user": {
      "displayName": "Lin King",
      "photoUrl": "https://lh3.googleusercontent.com/a/default-user=s128",
      "userId": "103400046330535562248"
     },
     "user_tz": -480
    },
    "id": "Z1L8churC_zl",
    "outputId": "6801cf8a-9f3a-46cf-d5d1-58640223bb5c"
   },
   "outputs": [
    {
     "data": {
      "text/plain": [
       "0.0"
      ]
     },
     "execution_count": 59,
     "metadata": {
      "tags": []
     },
     "output_type": "execute_result"
    }
   ],
   "source": [
    "accuracy_score(test_labels, pred_inc3_labels)"
   ]
  },
  {
   "cell_type": "code",
   "execution_count": 0,
   "metadata": {
    "colab": {
     "autoexec": {
      "startup": false,
      "wait_interval": 0
     }
    },
    "colab_type": "code",
    "id": "6Vnr74PtC_AX"
   },
   "outputs": [],
   "source": [
    "vgg_cm = confusion_matrix(test_labels, pred_vgg_labels)\n",
    "plot_confusion_matrix(vgg_cm, classes=class_labels, title='confusion matrix')"
   ]
  },
  {
   "cell_type": "code",
   "execution_count": 100,
   "metadata": {
    "colab": {
     "autoexec": {
      "startup": false,
      "wait_interval": 0
     },
     "base_uri": "https://localhost:8080/",
     "height": 34
    },
    "colab_type": "code",
    "executionInfo": {
     "elapsed": 2192,
     "status": "ok",
     "timestamp": 1525008021601,
     "user": {
      "displayName": "Lin King",
      "photoUrl": "https://lh3.googleusercontent.com/a/default-user=s128",
      "userId": "103400046330535562248"
     },
     "user_tz": -480
    },
    "id": "xw_D5Y1tcjK9",
    "outputId": "54c15da8-3129-43c7-92ce-010b93e3c02e"
   },
   "outputs": [
    {
     "name": "stdout",
     "output_type": "stream",
     "text": [
      "model.h5\r\n"
     ]
    }
   ],
   "source": [
    "!cd models && ls"
   ]
  }
 ],
 "metadata": {
  "accelerator": "GPU",
  "colab": {
   "collapsed_sections": [],
   "default_view": {},
   "name": "DL-Food-11.ipynb",
   "provenance": [],
   "version": "0.3.2",
   "views": {}
  },
  "kernelspec": {
   "display_name": "Python 3",
   "language": "python",
   "name": "python3"
  },
  "language_info": {
   "codemirror_mode": {
    "name": "ipython",
    "version": 3
   },
   "file_extension": ".py",
   "mimetype": "text/x-python",
   "name": "python",
   "nbconvert_exporter": "python",
   "pygments_lexer": "ipython3",
   "version": "3.6.4"
  }
 },
 "nbformat": 4,
 "nbformat_minor": 1
}
